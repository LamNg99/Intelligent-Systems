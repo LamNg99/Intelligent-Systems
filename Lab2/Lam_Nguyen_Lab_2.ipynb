{
  "nbformat": 4,
  "nbformat_minor": 0,
  "metadata": {
    "colab": {
      "provenance": [],
      "toc_visible": true,
      "mount_file_id": "1ctfg56hB2pLT3KXN1jkUUyNe_dgAGS9P",
      "authorship_tag": "ABX9TyMTcVi77230jAJeR1/+wCFH",
      "include_colab_link": true
    },
    "kernelspec": {
      "name": "python3",
      "display_name": "Python 3"
    },
    "language_info": {
      "name": "python"
    }
  },
  "cells": [
    {
      "cell_type": "markdown",
      "metadata": {
        "id": "view-in-github",
        "colab_type": "text"
      },
      "source": [
        "<a href=\"https://colab.research.google.com/github/LamNg99/Intelligent-Systems/blob/main/Lam_Nguyen_Lab_2.ipynb\" target=\"_parent\"><img src=\"https://colab.research.google.com/assets/colab-badge.svg\" alt=\"Open In Colab\"/></a>"
      ]
    },
    {
      "cell_type": "markdown",
      "source": [
        "# Lab  #2\n",
        "\n",
        "First and Last Name: Lam Nguyen\n",
        "\n",
        "Student ID: 500838417\n",
        "\n",
        "Video URL: -----------------------"
      ],
      "metadata": {
        "id": "EQOySTVg4WIU"
      }
    },
    {
      "cell_type": "markdown",
      "source": [
        "# Gradient Descent For Logistic Regression\n",
        "This notebook looks into Python_based codes in attempt to implement Gradient Descent for solving a logistic regression problem. The overall goal aims to builds a machine learning model capable of predicting whether or not someone has coronary heart disease based on their medical attributes using the [heart data set](https://raw.githubusercontent.com/tofighi/MachineLearning/master/datasets/heart.csv) taken from a larger dataset, described in Rousseauw et al, 1983, South African Medical Journal."
      ],
      "metadata": {
        "id": "mkKm0fsm6bY0"
      }
    },
    {
      "cell_type": "code",
      "source": [
        "# Regular EDA (exploratory data analysis) and plotting libraries\n",
        "import numpy as np\n",
        "import pandas as pd\n",
        "import matplotlib.pyplot as plt\n",
        "import seaborn as sns\n",
        "\n",
        "%matplotlib inline\n",
        "\n",
        "# Models from Scikit-Learn\n",
        "from sklearn.linear_model import LogisticRegression"
      ],
      "metadata": {
        "id": "S6H-hvCb9j08"
      },
      "execution_count": 14,
      "outputs": []
    },
    {
      "cell_type": "markdown",
      "source": [
        "## Data preparation and EDA\n",
        "The following are the features we'll use to predict our target variable (heart disease or no heart disease).\n",
        "1. sbp - systolic blood pressure\n",
        "2. tobacco - cumulative tobacco (kg)\n",
        "3. ldl - low densiity lipoprotein cholesterol\n",
        "4. adiposity\n",
        "5. famhist - family history of heart disease (Present, Absent)\n",
        "6. typea - type-A behavior\n",
        "7. obesity\n",
        "8. alcohol - current alcohol consumption\n",
        "9. age - age at onset\n",
        "10. chd (target) - have coronary heart disease or not (1=yes, 0=no) (= the predicted attribute)\n",
        "\n",
        "**Note:** No personal identifiable information (PPI) can be found in the dataset."
      ],
      "metadata": {
        "id": "aBMZ2cqY9xt2"
      }
    },
    {
      "cell_type": "code",
      "source": [
        "# Load data\n",
        "df = pd.read_csv('https://raw.githubusercontent.com/tofighi/MachineLearning/master/datasets/heart.csv')\n",
        "df.shape # (rows, columns)"
      ],
      "metadata": {
        "colab": {
          "base_uri": "https://localhost:8080/"
        },
        "id": "6oQoJDnJ9sVV",
        "outputId": "26fdcc12-532f-4fc7-8eb8-5a256a47709d"
      },
      "execution_count": 15,
      "outputs": [
        {
          "output_type": "execute_result",
          "data": {
            "text/plain": [
              "(462, 11)"
            ]
          },
          "metadata": {},
          "execution_count": 15
        }
      ]
    },
    {
      "cell_type": "code",
      "source": [
        "# Drop unneccessary column\n",
        "df.drop('row.names', axis=1, inplace=True)"
      ],
      "metadata": {
        "id": "LlNx0Dkg-YHd"
      },
      "execution_count": 16,
      "outputs": []
    },
    {
      "cell_type": "code",
      "source": [
        "df.head()"
      ],
      "metadata": {
        "colab": {
          "base_uri": "https://localhost:8080/",
          "height": 206
        },
        "id": "mAV4AK4j-bNg",
        "outputId": "6c5bc6cf-5644-48fb-a49d-e00dd3dac3e3"
      },
      "execution_count": 17,
      "outputs": [
        {
          "output_type": "execute_result",
          "data": {
            "text/plain": [
              "   sbp  tobacco   ldl  adiposity  famhist  typea  obesity  alcohol  age  chd\n",
              "0  160    12.00  5.73      23.11  Present     49    25.30    97.20   52    1\n",
              "1  144     0.01  4.41      28.61   Absent     55    28.87     2.06   63    1\n",
              "2  118     0.08  3.48      32.28  Present     52    29.14     3.81   46    0\n",
              "3  170     7.50  6.41      38.03  Present     51    31.99    24.26   58    1\n",
              "4  134    13.60  3.50      27.78  Present     60    25.99    57.34   49    1"
            ],
            "text/html": [
              "\n",
              "  <div id=\"df-801e6065-fb67-4b1f-9a7e-02bf93139fe7\">\n",
              "    <div class=\"colab-df-container\">\n",
              "      <div>\n",
              "<style scoped>\n",
              "    .dataframe tbody tr th:only-of-type {\n",
              "        vertical-align: middle;\n",
              "    }\n",
              "\n",
              "    .dataframe tbody tr th {\n",
              "        vertical-align: top;\n",
              "    }\n",
              "\n",
              "    .dataframe thead th {\n",
              "        text-align: right;\n",
              "    }\n",
              "</style>\n",
              "<table border=\"1\" class=\"dataframe\">\n",
              "  <thead>\n",
              "    <tr style=\"text-align: right;\">\n",
              "      <th></th>\n",
              "      <th>sbp</th>\n",
              "      <th>tobacco</th>\n",
              "      <th>ldl</th>\n",
              "      <th>adiposity</th>\n",
              "      <th>famhist</th>\n",
              "      <th>typea</th>\n",
              "      <th>obesity</th>\n",
              "      <th>alcohol</th>\n",
              "      <th>age</th>\n",
              "      <th>chd</th>\n",
              "    </tr>\n",
              "  </thead>\n",
              "  <tbody>\n",
              "    <tr>\n",
              "      <th>0</th>\n",
              "      <td>160</td>\n",
              "      <td>12.00</td>\n",
              "      <td>5.73</td>\n",
              "      <td>23.11</td>\n",
              "      <td>Present</td>\n",
              "      <td>49</td>\n",
              "      <td>25.30</td>\n",
              "      <td>97.20</td>\n",
              "      <td>52</td>\n",
              "      <td>1</td>\n",
              "    </tr>\n",
              "    <tr>\n",
              "      <th>1</th>\n",
              "      <td>144</td>\n",
              "      <td>0.01</td>\n",
              "      <td>4.41</td>\n",
              "      <td>28.61</td>\n",
              "      <td>Absent</td>\n",
              "      <td>55</td>\n",
              "      <td>28.87</td>\n",
              "      <td>2.06</td>\n",
              "      <td>63</td>\n",
              "      <td>1</td>\n",
              "    </tr>\n",
              "    <tr>\n",
              "      <th>2</th>\n",
              "      <td>118</td>\n",
              "      <td>0.08</td>\n",
              "      <td>3.48</td>\n",
              "      <td>32.28</td>\n",
              "      <td>Present</td>\n",
              "      <td>52</td>\n",
              "      <td>29.14</td>\n",
              "      <td>3.81</td>\n",
              "      <td>46</td>\n",
              "      <td>0</td>\n",
              "    </tr>\n",
              "    <tr>\n",
              "      <th>3</th>\n",
              "      <td>170</td>\n",
              "      <td>7.50</td>\n",
              "      <td>6.41</td>\n",
              "      <td>38.03</td>\n",
              "      <td>Present</td>\n",
              "      <td>51</td>\n",
              "      <td>31.99</td>\n",
              "      <td>24.26</td>\n",
              "      <td>58</td>\n",
              "      <td>1</td>\n",
              "    </tr>\n",
              "    <tr>\n",
              "      <th>4</th>\n",
              "      <td>134</td>\n",
              "      <td>13.60</td>\n",
              "      <td>3.50</td>\n",
              "      <td>27.78</td>\n",
              "      <td>Present</td>\n",
              "      <td>60</td>\n",
              "      <td>25.99</td>\n",
              "      <td>57.34</td>\n",
              "      <td>49</td>\n",
              "      <td>1</td>\n",
              "    </tr>\n",
              "  </tbody>\n",
              "</table>\n",
              "</div>\n",
              "      <button class=\"colab-df-convert\" onclick=\"convertToInteractive('df-801e6065-fb67-4b1f-9a7e-02bf93139fe7')\"\n",
              "              title=\"Convert this dataframe to an interactive table.\"\n",
              "              style=\"display:none;\">\n",
              "        \n",
              "  <svg xmlns=\"http://www.w3.org/2000/svg\" height=\"24px\"viewBox=\"0 0 24 24\"\n",
              "       width=\"24px\">\n",
              "    <path d=\"M0 0h24v24H0V0z\" fill=\"none\"/>\n",
              "    <path d=\"M18.56 5.44l.94 2.06.94-2.06 2.06-.94-2.06-.94-.94-2.06-.94 2.06-2.06.94zm-11 1L8.5 8.5l.94-2.06 2.06-.94-2.06-.94L8.5 2.5l-.94 2.06-2.06.94zm10 10l.94 2.06.94-2.06 2.06-.94-2.06-.94-.94-2.06-.94 2.06-2.06.94z\"/><path d=\"M17.41 7.96l-1.37-1.37c-.4-.4-.92-.59-1.43-.59-.52 0-1.04.2-1.43.59L10.3 9.45l-7.72 7.72c-.78.78-.78 2.05 0 2.83L4 21.41c.39.39.9.59 1.41.59.51 0 1.02-.2 1.41-.59l7.78-7.78 2.81-2.81c.8-.78.8-2.07 0-2.86zM5.41 20L4 18.59l7.72-7.72 1.47 1.35L5.41 20z\"/>\n",
              "  </svg>\n",
              "      </button>\n",
              "      \n",
              "  <style>\n",
              "    .colab-df-container {\n",
              "      display:flex;\n",
              "      flex-wrap:wrap;\n",
              "      gap: 12px;\n",
              "    }\n",
              "\n",
              "    .colab-df-convert {\n",
              "      background-color: #E8F0FE;\n",
              "      border: none;\n",
              "      border-radius: 50%;\n",
              "      cursor: pointer;\n",
              "      display: none;\n",
              "      fill: #1967D2;\n",
              "      height: 32px;\n",
              "      padding: 0 0 0 0;\n",
              "      width: 32px;\n",
              "    }\n",
              "\n",
              "    .colab-df-convert:hover {\n",
              "      background-color: #E2EBFA;\n",
              "      box-shadow: 0px 1px 2px rgba(60, 64, 67, 0.3), 0px 1px 3px 1px rgba(60, 64, 67, 0.15);\n",
              "      fill: #174EA6;\n",
              "    }\n",
              "\n",
              "    [theme=dark] .colab-df-convert {\n",
              "      background-color: #3B4455;\n",
              "      fill: #D2E3FC;\n",
              "    }\n",
              "\n",
              "    [theme=dark] .colab-df-convert:hover {\n",
              "      background-color: #434B5C;\n",
              "      box-shadow: 0px 1px 3px 1px rgba(0, 0, 0, 0.15);\n",
              "      filter: drop-shadow(0px 1px 2px rgba(0, 0, 0, 0.3));\n",
              "      fill: #FFFFFF;\n",
              "    }\n",
              "  </style>\n",
              "\n",
              "      <script>\n",
              "        const buttonEl =\n",
              "          document.querySelector('#df-801e6065-fb67-4b1f-9a7e-02bf93139fe7 button.colab-df-convert');\n",
              "        buttonEl.style.display =\n",
              "          google.colab.kernel.accessAllowed ? 'block' : 'none';\n",
              "\n",
              "        async function convertToInteractive(key) {\n",
              "          const element = document.querySelector('#df-801e6065-fb67-4b1f-9a7e-02bf93139fe7');\n",
              "          const dataTable =\n",
              "            await google.colab.kernel.invokeFunction('convertToInteractive',\n",
              "                                                     [key], {});\n",
              "          if (!dataTable) return;\n",
              "\n",
              "          const docLinkHtml = 'Like what you see? Visit the ' +\n",
              "            '<a target=\"_blank\" href=https://colab.research.google.com/notebooks/data_table.ipynb>data table notebook</a>'\n",
              "            + ' to learn more about interactive tables.';\n",
              "          element.innerHTML = '';\n",
              "          dataTable['output_type'] = 'display_data';\n",
              "          await google.colab.output.renderOutput(dataTable, element);\n",
              "          const docLink = document.createElement('div');\n",
              "          docLink.innerHTML = docLinkHtml;\n",
              "          element.appendChild(docLink);\n",
              "        }\n",
              "      </script>\n",
              "    </div>\n",
              "  </div>\n",
              "  "
            ]
          },
          "metadata": {},
          "execution_count": 17
        }
      ]
    },
    {
      "cell_type": "code",
      "source": [
        "# Find out how many of each class \n",
        "df['chd'].value_counts(normalize=True).mul(100).round(1).astype(str) + '%'"
      ],
      "metadata": {
        "colab": {
          "base_uri": "https://localhost:8080/"
        },
        "id": "o7SLarVNAx5P",
        "outputId": "02f99d72-827f-4e84-93c1-d39a01c204e5"
      },
      "execution_count": 18,
      "outputs": [
        {
          "output_type": "execute_result",
          "data": {
            "text/plain": [
              "0    65.4%\n",
              "1    34.6%\n",
              "Name: chd, dtype: object"
            ]
          },
          "metadata": {},
          "execution_count": 18
        }
      ]
    },
    {
      "cell_type": "code",
      "source": [
        "df['chd'].value_counts().plot(kind='bar', color=['orange','lightblue']);"
      ],
      "metadata": {
        "colab": {
          "base_uri": "https://localhost:8080/",
          "height": 262
        },
        "id": "CC2mjCdRCBaY",
        "outputId": "f11c4a21-51e3-48ec-e621-9b3a0a409e53"
      },
      "execution_count": 19,
      "outputs": [
        {
          "output_type": "display_data",
          "data": {
            "text/plain": [
              "<Figure size 432x288 with 1 Axes>"
            ],
            "image/png": "[encoded data removed]"
          },
          "metadata": {
            "needs_background": "light"
          }
        }
      ]
    },
    {
      "cell_type": "code",
      "source": [
        "# Check for missing value\n",
        "df.isna().sum()"
      ],
      "metadata": {
        "colab": {
          "base_uri": "https://localhost:8080/"
        },
        "id": "twUy7gftCoYz",
        "outputId": "c58fe519-a2e2-4467-84c5-dfc3e83f7507"
      },
      "execution_count": 20,
      "outputs": [
        {
          "output_type": "execute_result",
          "data": {
            "text/plain": [
              "sbp          0\n",
              "tobacco      0\n",
              "ldl          0\n",
              "adiposity    0\n",
              "famhist      0\n",
              "typea        0\n",
              "obesity      0\n",
              "alcohol      0\n",
              "age          0\n",
              "chd          0\n",
              "dtype: int64"
            ]
          },
          "metadata": {},
          "execution_count": 20
        }
      ]
    },
    {
      "cell_type": "code",
      "source": [
        "df.info()"
      ],
      "metadata": {
        "colab": {
          "base_uri": "https://localhost:8080/"
        },
        "id": "mBh-lgIRC7AN",
        "outputId": "f463e73f-9531-40ad-a230-58438fb98fd8"
      },
      "execution_count": 21,
      "outputs": [
        {
          "output_type": "stream",
          "name": "stdout",
          "text": [
            "<class 'pandas.core.frame.DataFrame'>\n",
            "RangeIndex: 462 entries, 0 to 461\n",
            "Data columns (total 10 columns):\n",
            " #   Column     Non-Null Count  Dtype  \n",
            "---  ------     --------------  -----  \n",
            " 0   sbp        462 non-null    int64  \n",
            " 1   tobacco    462 non-null    float64\n",
            " 2   ldl        462 non-null    float64\n",
            " 3   adiposity  462 non-null    float64\n",
            " 4   famhist    462 non-null    object \n",
            " 5   typea      462 non-null    int64  \n",
            " 6   obesity    462 non-null    float64\n",
            " 7   alcohol    462 non-null    float64\n",
            " 8   age        462 non-null    int64  \n",
            " 9   chd        462 non-null    int64  \n",
            "dtypes: float64(5), int64(4), object(1)\n",
            "memory usage: 36.2+ KB\n"
          ]
        }
      ]
    },
    {
      "cell_type": "code",
      "source": [
        "# Make the correlation matrix more visualization\n",
        "corr_matrix = df.corr()\n",
        "fig, ax = plt.subplots(figsize=(15,10))\n",
        "ax = sns.heatmap(corr_matrix,\n",
        "                annot=True,\n",
        "                linewidths=0.5,\n",
        "                fmt='.2f',\n",
        "                cmap='YlGnBu');"
      ],
      "metadata": {
        "colab": {
          "base_uri": "https://localhost:8080/",
          "height": 596
        },
        "id": "vpjzh6uxDUsL",
        "outputId": "c94a8e9a-076c-4f86-a8a5-59f2dbf951a5"
      },
      "execution_count": 22,
      "outputs": [
        {
          "output_type": "display_data",
          "data": {
            "text/plain": [
              "<Figure size 1080x720 with 2 Axes>"
            ],
            "image/png": "[encoded data removed]"
          },
          "metadata": {
            "needs_background": "light"
          }
        }
      ]
    },
    {
      "cell_type": "markdown",
      "source": [
        "## Implementation steps"
      ],
      "metadata": {
        "id": "h9_7WWkjHWKP"
      }
    },
    {
      "cell_type": "markdown",
      "source": [
        "### Standardization\n",
        "Standardization typically means rescales data to have a mean of 0 and a standard deviation of 1 (unit variance). This method is widely used for normalization in many machine learning algorithms as follows:\n",
        "\n",
        "$$ x^{'} = \\frac{x-\\bar{x}}{\\sigma} $$"
      ],
      "metadata": {
        "id": "tMybttCsHXzi"
      }
    },
    {
      "cell_type": "code",
      "source": [
        "def preprocess(data):\n",
        "  for col in data:\n",
        "    if data[col].dtype == 'object':\n",
        "      data = pd.get_dummies(data, columns=[col], drop_first=True)\n",
        "    else:\n",
        "      data[col] = (data[col] - data[col].mean()) / data[col].std()\n",
        "  return data"
      ],
      "metadata": {
        "id": "0QMWHY3GGGmO"
      },
      "execution_count": 23,
      "outputs": []
    },
    {
      "cell_type": "markdown",
      "source": [
        "### Sigmoid function\n",
        "$$ S(z) = P(y=1|x) = h_{\\theta}{(x)} = \\frac{1}{1 + exp(-\\theta^Tx)} \\equiv \\sigma(\\theta^Tx) = \\frac{1}{1+e^{-z}} $$ \n",
        "\n",
        "where $ z = \\theta^Tx $."
      ],
      "metadata": {
        "id": "mbP2SF8GJfff"
      }
    },
    {
      "cell_type": "code",
      "source": [
        "def hypothesis(X, theta):\n",
        "  z = X.dot(theta.T)\n",
        "  return 1/(1 + np.exp(-z))"
      ],
      "metadata": {
        "id": "xwdzLO2-HpLn"
      },
      "execution_count": 24,
      "outputs": []
    },
    {
      "cell_type": "markdown",
      "source": [
        "### Cost function\n",
        "**Binary cross-entropy** is a loss function designed for **binary classification** problems, where the classifier can return the predicted probabilities of the positive class. The binary cross-entropy is defined as:\n",
        "\n",
        "$$ J(\\theta) = -\\frac{1}{m}\\sum^{m}_{i}(y^{(i)}log(h_{\\theta}(x^{(i)})) + (1-y^{(i)})log(1-h_{\\theta}(x^{(i)}))) $$\n",
        "\n",
        "where $y^{(i)}$ is the target variable (can only be  0  or  1 ), $x^{(i)}$ are the variables/features, and $h_{\\theta}(x^{(i)})$ is the probability model of being of class  1 ."
      ],
      "metadata": {
        "id": "92xX4RnZnASg"
      }
    },
    {
      "cell_type": "code",
      "source": [
        "def cross_entropy(X, y, theta):\n",
        "  m = X.shape[0]\n",
        "  h = hypothesis(X, theta)\n",
        "  cost = -(1/m) * np.sum((y*np.log(h)) + (1-y)*np.log(1-h))\n",
        "  return cost"
      ],
      "metadata": {
        "id": "EJHVwYJaqbpX"
      },
      "execution_count": 25,
      "outputs": []
    },
    {
      "cell_type": "markdown",
      "source": [
        "### Batch Gradient Descent\n",
        "In Batch Gradient Descent, all the training data is taken into consideration to take a single step. The function for updating the thetas\n",
        "(weights) iteratively:\n",
        "\n",
        "$$ \\theta_{new} := \\theta_{old} + \\alpha\\times\\frac{1}{m}\\sum^{m}_{i=1}[y^{(i)} - \\sigma(\\theta^{T}_{old}(x^{(i)}))]x^{(i)}_{j} $$"
      ],
      "metadata": {
        "id": "MlJ-2rSRwboD"
      }
    },
    {
      "cell_type": "code",
      "source": [
        "def batch_gradient_descent(X, y, theta, learning_rate, iterations):\n",
        "    m = X.shape[0]\n",
        "    X_j = np.c_[np.ones((len(X), 1)), X]\n",
        "    cost_history = np.zeros(iterations)\n",
        "    theta_history = np.zeros((iterations, X.shape[1]+1))\n",
        "    for iter in range(iterations):\n",
        "        h = hypothesis(X_j, theta)\n",
        "        theta = theta + (1 / m) * learning_rate * np.sum(X_j.T.dot(y - h))\n",
        "        theta_history[iter, :] = theta.T\n",
        "        cost_history[iter] = cross_entropy(X_j, y, theta)\n",
        "\n",
        "        if iterations <= 1000:\n",
        "          if (iter+1)%100 == 0:\n",
        "            print(f'Iteration: {iter+1} ----> cost: {cost_history[iter]:.2f}')\n",
        "    \n",
        "        else:\n",
        "          if (iter+1)%1000 == 0:\n",
        "            print(f'Iteration: {iter+1} ----> cost: {cost_history[iter]:.2f}')\n",
        "    return theta, cost_history, theta_history"
      ],
      "metadata": {
        "id": "hcNStjlCvVG_"
      },
      "execution_count": 26,
      "outputs": []
    },
    {
      "cell_type": "markdown",
      "source": [
        "### Mini-batch Gradient Descent\n",
        "This technique uses a batch of a fixed number of training examples which is less than the actual dataset and call it a mini-batch. Doing this helps to achieve the advantages of the former variants."
      ],
      "metadata": {
        "id": "mH7n3ebC8mDg"
      }
    },
    {
      "cell_type": "code",
      "source": [
        "def mini_batch_gradient_descent(X, y, theta, learning_rate, iterations, batch_size):\n",
        "    m = X.shape[0]\n",
        "    cost_history = np.zeros(iterations)\n",
        "    for iter in range(iterations):\n",
        "        cost = 0.0\n",
        "        np.random.seed(42)\n",
        "        shuffled_indices = np.random.permutation(m)\n",
        "        X, y = X.iloc[shuffled_indices], y.iloc[shuffled_indices]\n",
        "        for i in range(0, m, batch_size):\n",
        "            X_i = X[i:i+batch_size]\n",
        "            y_i = y[i:i+batch_size]\n",
        "            X_j = np.c_[np.ones(len(X_i)),X_i]\n",
        "            h = hypothesis(X_j, theta)\n",
        "            theta = theta + (1 / m) * learning_rate * np.sum(X_j.T.dot(y_i - h))\n",
        "            cost += cross_entropy(X_j, y_i, theta)\n",
        "        cost_history[iter] = cost\n",
        "\n",
        "        if iterations <= 1000:\n",
        "          if (iter+1)%100 == 0:\n",
        "            print(f'Iteration: {iter+1} ----> cost: {cost_history[iter]:.2f}')\n",
        "    \n",
        "        else:\n",
        "          if (iter+1)%1000 == 0:\n",
        "            print(f'Iteration: {iter+1} ----> cost: {cost_history[iter]:.2f}')\n",
        "    return theta, cost_history"
      ],
      "metadata": {
        "id": "61GRwJCZ2xZo"
      },
      "execution_count": 27,
      "outputs": []
    },
    {
      "cell_type": "markdown",
      "source": [
        "## Performing Gradient Descent for Linear Regression"
      ],
      "metadata": {
        "id": "tHU7Axo0CwFJ"
      }
    },
    {
      "cell_type": "markdown",
      "source": [
        "### Data preprocessing"
      ],
      "metadata": {
        "id": "L3B8zz2EDSxt"
      }
    },
    {
      "cell_type": "code",
      "source": [
        "# Split data into X and y\n",
        "X = df.drop('chd', axis=1)\n",
        "y = df['chd']"
      ],
      "metadata": {
        "id": "iM3n5bvt-fzE"
      },
      "execution_count": 28,
      "outputs": []
    },
    {
      "cell_type": "code",
      "source": [
        "# Standardize and encode the categorical variable(s)\n",
        "preprocessed_X = preprocess(X)\n",
        "preprocessed_X.head()"
      ],
      "metadata": {
        "colab": {
          "base_uri": "https://localhost:8080/",
          "height": 206
        },
        "id": "kKZeJbyuDtsT",
        "outputId": "a3b0928e-b6e9-4588-aa3a-b188e1ace859"
      },
      "execution_count": 29,
      "outputs": [
        {
          "output_type": "execute_result",
          "data": {
            "text/plain": [
              "        sbp   tobacco       ldl  adiposity     typea   obesity   alcohol  \\\n",
              "0  1.057417  1.821099  0.477894  -0.295183 -0.418017 -0.176594  3.274189   \n",
              "1  0.276789 -0.789382 -0.159507   0.411694  0.193134  0.670646 -0.612081   \n",
              "2 -0.991731 -0.774141 -0.608585   0.883374 -0.112441  0.734723 -0.540597   \n",
              "3  1.545310  0.841352  0.806252   1.622382 -0.214300  1.411091  0.294742   \n",
              "4 -0.211103  2.169453 -0.598928   0.305020  0.702427 -0.012842  1.645991   \n",
              "\n",
              "        age  famhist_Present  \n",
              "0  0.628654                1  \n",
              "1  1.381617                0  \n",
              "2  0.217947                1  \n",
              "3  1.039361                1  \n",
              "4  0.423301                1  "
            ],
            "text/html": [
              "\n",
              "  <div id=\"df-3d3a4d43-5dc2-4b15-afcf-8c742a833e18\">\n",
              "    <div class=\"colab-df-container\">\n",
              "      <div>\n",
              "<style scoped>\n",
              "    .dataframe tbody tr th:only-of-type {\n",
              "        vertical-align: middle;\n",
              "    }\n",
              "\n",
              "    .dataframe tbody tr th {\n",
              "        vertical-align: top;\n",
              "    }\n",
              "\n",
              "    .dataframe thead th {\n",
              "        text-align: right;\n",
              "    }\n",
              "</style>\n",
              "<table border=\"1\" class=\"dataframe\">\n",
              "  <thead>\n",
              "    <tr style=\"text-align: right;\">\n",
              "      <th></th>\n",
              "      <th>sbp</th>\n",
              "      <th>tobacco</th>\n",
              "      <th>ldl</th>\n",
              "      <th>adiposity</th>\n",
              "      <th>typea</th>\n",
              "      <th>obesity</th>\n",
              "      <th>alcohol</th>\n",
              "      <th>age</th>\n",
              "      <th>famhist_Present</th>\n",
              "    </tr>\n",
              "  </thead>\n",
              "  <tbody>\n",
              "    <tr>\n",
              "      <th>0</th>\n",
              "      <td>1.057417</td>\n",
              "      <td>1.821099</td>\n",
              "      <td>0.477894</td>\n",
              "      <td>-0.295183</td>\n",
              "      <td>-0.418017</td>\n",
              "      <td>-0.176594</td>\n",
              "      <td>3.274189</td>\n",
              "      <td>0.628654</td>\n",
              "      <td>1</td>\n",
              "    </tr>\n",
              "    <tr>\n",
              "      <th>1</th>\n",
              "      <td>0.276789</td>\n",
              "      <td>-0.789382</td>\n",
              "      <td>-0.159507</td>\n",
              "      <td>0.411694</td>\n",
              "      <td>0.193134</td>\n",
              "      <td>0.670646</td>\n",
              "      <td>-0.612081</td>\n",
              "      <td>1.381617</td>\n",
              "      <td>0</td>\n",
              "    </tr>\n",
              "    <tr>\n",
              "      <th>2</th>\n",
              "      <td>-0.991731</td>\n",
              "      <td>-0.774141</td>\n",
              "      <td>-0.608585</td>\n",
              "      <td>0.883374</td>\n",
              "      <td>-0.112441</td>\n",
              "      <td>0.734723</td>\n",
              "      <td>-0.540597</td>\n",
              "      <td>0.217947</td>\n",
              "      <td>1</td>\n",
              "    </tr>\n",
              "    <tr>\n",
              "      <th>3</th>\n",
              "      <td>1.545310</td>\n",
              "      <td>0.841352</td>\n",
              "      <td>0.806252</td>\n",
              "      <td>1.622382</td>\n",
              "      <td>-0.214300</td>\n",
              "      <td>1.411091</td>\n",
              "      <td>0.294742</td>\n",
              "      <td>1.039361</td>\n",
              "      <td>1</td>\n",
              "    </tr>\n",
              "    <tr>\n",
              "      <th>4</th>\n",
              "      <td>-0.211103</td>\n",
              "      <td>2.169453</td>\n",
              "      <td>-0.598928</td>\n",
              "      <td>0.305020</td>\n",
              "      <td>0.702427</td>\n",
              "      <td>-0.012842</td>\n",
              "      <td>1.645991</td>\n",
              "      <td>0.423301</td>\n",
              "      <td>1</td>\n",
              "    </tr>\n",
              "  </tbody>\n",
              "</table>\n",
              "</div>\n",
              "      <button class=\"colab-df-convert\" onclick=\"convertToInteractive('df-3d3a4d43-5dc2-4b15-afcf-8c742a833e18')\"\n",
              "              title=\"Convert this dataframe to an interactive table.\"\n",
              "              style=\"display:none;\">\n",
              "        \n",
              "  <svg xmlns=\"http://www.w3.org/2000/svg\" height=\"24px\"viewBox=\"0 0 24 24\"\n",
              "       width=\"24px\">\n",
              "    <path d=\"M0 0h24v24H0V0z\" fill=\"none\"/>\n",
              "    <path d=\"M18.56 5.44l.94 2.06.94-2.06 2.06-.94-2.06-.94-.94-2.06-.94 2.06-2.06.94zm-11 1L8.5 8.5l.94-2.06 2.06-.94-2.06-.94L8.5 2.5l-.94 2.06-2.06.94zm10 10l.94 2.06.94-2.06 2.06-.94-2.06-.94-.94-2.06-.94 2.06-2.06.94z\"/><path d=\"M17.41 7.96l-1.37-1.37c-.4-.4-.92-.59-1.43-.59-.52 0-1.04.2-1.43.59L10.3 9.45l-7.72 7.72c-.78.78-.78 2.05 0 2.83L4 21.41c.39.39.9.59 1.41.59.51 0 1.02-.2 1.41-.59l7.78-7.78 2.81-2.81c.8-.78.8-2.07 0-2.86zM5.41 20L4 18.59l7.72-7.72 1.47 1.35L5.41 20z\"/>\n",
              "  </svg>\n",
              "      </button>\n",
              "      \n",
              "  <style>\n",
              "    .colab-df-container {\n",
              "      display:flex;\n",
              "      flex-wrap:wrap;\n",
              "      gap: 12px;\n",
              "    }\n",
              "\n",
              "    .colab-df-convert {\n",
              "      background-color: #E8F0FE;\n",
              "      border: none;\n",
              "      border-radius: 50%;\n",
              "      cursor: pointer;\n",
              "      display: none;\n",
              "      fill: #1967D2;\n",
              "      height: 32px;\n",
              "      padding: 0 0 0 0;\n",
              "      width: 32px;\n",
              "    }\n",
              "\n",
              "    .colab-df-convert:hover {\n",
              "      background-color: #E2EBFA;\n",
              "      box-shadow: 0px 1px 2px rgba(60, 64, 67, 0.3), 0px 1px 3px 1px rgba(60, 64, 67, 0.15);\n",
              "      fill: #174EA6;\n",
              "    }\n",
              "\n",
              "    [theme=dark] .colab-df-convert {\n",
              "      background-color: #3B4455;\n",
              "      fill: #D2E3FC;\n",
              "    }\n",
              "\n",
              "    [theme=dark] .colab-df-convert:hover {\n",
              "      background-color: #434B5C;\n",
              "      box-shadow: 0px 1px 3px 1px rgba(0, 0, 0, 0.15);\n",
              "      filter: drop-shadow(0px 1px 2px rgba(0, 0, 0, 0.3));\n",
              "      fill: #FFFFFF;\n",
              "    }\n",
              "  </style>\n",
              "\n",
              "      <script>\n",
              "        const buttonEl =\n",
              "          document.querySelector('#df-3d3a4d43-5dc2-4b15-afcf-8c742a833e18 button.colab-df-convert');\n",
              "        buttonEl.style.display =\n",
              "          google.colab.kernel.accessAllowed ? 'block' : 'none';\n",
              "\n",
              "        async function convertToInteractive(key) {\n",
              "          const element = document.querySelector('#df-3d3a4d43-5dc2-4b15-afcf-8c742a833e18');\n",
              "          const dataTable =\n",
              "            await google.colab.kernel.invokeFunction('convertToInteractive',\n",
              "                                                     [key], {});\n",
              "          if (!dataTable) return;\n",
              "\n",
              "          const docLinkHtml = 'Like what you see? Visit the ' +\n",
              "            '<a target=\"_blank\" href=https://colab.research.google.com/notebooks/data_table.ipynb>data table notebook</a>'\n",
              "            + ' to learn more about interactive tables.';\n",
              "          element.innerHTML = '';\n",
              "          dataTable['output_type'] = 'display_data';\n",
              "          await google.colab.output.renderOutput(dataTable, element);\n",
              "          const docLink = document.createElement('div');\n",
              "          docLink.innerHTML = docLinkHtml;\n",
              "          element.appendChild(docLink);\n",
              "        }\n",
              "      </script>\n",
              "    </div>\n",
              "  </div>\n",
              "  "
            ]
          },
          "metadata": {},
          "execution_count": 29
        }
      ]
    },
    {
      "cell_type": "code",
      "source": [
        "preprocessed_X.describe().round(2)"
      ],
      "metadata": {
        "colab": {
          "base_uri": "https://localhost:8080/",
          "height": 300
        },
        "id": "K8BbVFY7MrVP",
        "outputId": "af48ae64-0555-4beb-a6de-1c096cad5331"
      },
      "execution_count": 30,
      "outputs": [
        {
          "output_type": "execute_result",
          "data": {
            "text/plain": [
              "          sbp  tobacco     ldl  adiposity   typea  obesity  alcohol     age  \\\n",
              "count  462.00   462.00  462.00     462.00  462.00   462.00   462.00  462.00   \n",
              "mean    -0.00    -0.00    0.00       0.00   -0.00     0.00     0.00    0.00   \n",
              "std      1.00     1.00    1.00       1.00    1.00     1.00     1.00    1.00   \n",
              "min     -1.82    -0.79   -1.82      -2.40   -4.08    -2.69    -0.70   -1.90   \n",
              "25%     -0.70    -0.78   -0.70      -0.72   -0.62    -0.73    -0.68   -0.81   \n",
              "50%     -0.21    -0.36   -0.19       0.09   -0.01    -0.06    -0.39    0.15   \n",
              "75%      0.47     0.41    0.51       0.75    0.70     0.58     0.28    0.83   \n",
              "max      3.89     6.00    5.11       2.20    2.54     4.87     5.32    1.45   \n",
              "\n",
              "       famhist_Present  \n",
              "count           462.00  \n",
              "mean              0.42  \n",
              "std               0.49  \n",
              "min               0.00  \n",
              "25%               0.00  \n",
              "50%               0.00  \n",
              "75%               1.00  \n",
              "max               1.00  "
            ],
            "text/html": [
              "\n",
              "  <div id=\"df-0b46756f-9af3-4531-bfc4-180f395dbe58\">\n",
              "    <div class=\"colab-df-container\">\n",
              "      <div>\n",
              "<style scoped>\n",
              "    .dataframe tbody tr th:only-of-type {\n",
              "        vertical-align: middle;\n",
              "    }\n",
              "\n",
              "    .dataframe tbody tr th {\n",
              "        vertical-align: top;\n",
              "    }\n",
              "\n",
              "    .dataframe thead th {\n",
              "        text-align: right;\n",
              "    }\n",
              "</style>\n",
              "<table border=\"1\" class=\"dataframe\">\n",
              "  <thead>\n",
              "    <tr style=\"text-align: right;\">\n",
              "      <th></th>\n",
              "      <th>sbp</th>\n",
              "      <th>tobacco</th>\n",
              "      <th>ldl</th>\n",
              "      <th>adiposity</th>\n",
              "      <th>typea</th>\n",
              "      <th>obesity</th>\n",
              "      <th>alcohol</th>\n",
              "      <th>age</th>\n",
              "      <th>famhist_Present</th>\n",
              "    </tr>\n",
              "  </thead>\n",
              "  <tbody>\n",
              "    <tr>\n",
              "      <th>count</th>\n",
              "      <td>462.00</td>\n",
              "      <td>462.00</td>\n",
              "      <td>462.00</td>\n",
              "      <td>462.00</td>\n",
              "      <td>462.00</td>\n",
              "      <td>462.00</td>\n",
              "      <td>462.00</td>\n",
              "      <td>462.00</td>\n",
              "      <td>462.00</td>\n",
              "    </tr>\n",
              "    <tr>\n",
              "      <th>mean</th>\n",
              "      <td>-0.00</td>\n",
              "      <td>-0.00</td>\n",
              "      <td>0.00</td>\n",
              "      <td>0.00</td>\n",
              "      <td>-0.00</td>\n",
              "      <td>0.00</td>\n",
              "      <td>0.00</td>\n",
              "      <td>0.00</td>\n",
              "      <td>0.42</td>\n",
              "    </tr>\n",
              "    <tr>\n",
              "      <th>std</th>\n",
              "      <td>1.00</td>\n",
              "      <td>1.00</td>\n",
              "      <td>1.00</td>\n",
              "      <td>1.00</td>\n",
              "      <td>1.00</td>\n",
              "      <td>1.00</td>\n",
              "      <td>1.00</td>\n",
              "      <td>1.00</td>\n",
              "      <td>0.49</td>\n",
              "    </tr>\n",
              "    <tr>\n",
              "      <th>min</th>\n",
              "      <td>-1.82</td>\n",
              "      <td>-0.79</td>\n",
              "      <td>-1.82</td>\n",
              "      <td>-2.40</td>\n",
              "      <td>-4.08</td>\n",
              "      <td>-2.69</td>\n",
              "      <td>-0.70</td>\n",
              "      <td>-1.90</td>\n",
              "      <td>0.00</td>\n",
              "    </tr>\n",
              "    <tr>\n",
              "      <th>25%</th>\n",
              "      <td>-0.70</td>\n",
              "      <td>-0.78</td>\n",
              "      <td>-0.70</td>\n",
              "      <td>-0.72</td>\n",
              "      <td>-0.62</td>\n",
              "      <td>-0.73</td>\n",
              "      <td>-0.68</td>\n",
              "      <td>-0.81</td>\n",
              "      <td>0.00</td>\n",
              "    </tr>\n",
              "    <tr>\n",
              "      <th>50%</th>\n",
              "      <td>-0.21</td>\n",
              "      <td>-0.36</td>\n",
              "      <td>-0.19</td>\n",
              "      <td>0.09</td>\n",
              "      <td>-0.01</td>\n",
              "      <td>-0.06</td>\n",
              "      <td>-0.39</td>\n",
              "      <td>0.15</td>\n",
              "      <td>0.00</td>\n",
              "    </tr>\n",
              "    <tr>\n",
              "      <th>75%</th>\n",
              "      <td>0.47</td>\n",
              "      <td>0.41</td>\n",
              "      <td>0.51</td>\n",
              "      <td>0.75</td>\n",
              "      <td>0.70</td>\n",
              "      <td>0.58</td>\n",
              "      <td>0.28</td>\n",
              "      <td>0.83</td>\n",
              "      <td>1.00</td>\n",
              "    </tr>\n",
              "    <tr>\n",
              "      <th>max</th>\n",
              "      <td>3.89</td>\n",
              "      <td>6.00</td>\n",
              "      <td>5.11</td>\n",
              "      <td>2.20</td>\n",
              "      <td>2.54</td>\n",
              "      <td>4.87</td>\n",
              "      <td>5.32</td>\n",
              "      <td>1.45</td>\n",
              "      <td>1.00</td>\n",
              "    </tr>\n",
              "  </tbody>\n",
              "</table>\n",
              "</div>\n",
              "      <button class=\"colab-df-convert\" onclick=\"convertToInteractive('df-0b46756f-9af3-4531-bfc4-180f395dbe58')\"\n",
              "              title=\"Convert this dataframe to an interactive table.\"\n",
              "              style=\"display:none;\">\n",
              "        \n",
              "  <svg xmlns=\"http://www.w3.org/2000/svg\" height=\"24px\"viewBox=\"0 0 24 24\"\n",
              "       width=\"24px\">\n",
              "    <path d=\"M0 0h24v24H0V0z\" fill=\"none\"/>\n",
              "    <path d=\"M18.56 5.44l.94 2.06.94-2.06 2.06-.94-2.06-.94-.94-2.06-.94 2.06-2.06.94zm-11 1L8.5 8.5l.94-2.06 2.06-.94-2.06-.94L8.5 2.5l-.94 2.06-2.06.94zm10 10l.94 2.06.94-2.06 2.06-.94-2.06-.94-.94-2.06-.94 2.06-2.06.94z\"/><path d=\"M17.41 7.96l-1.37-1.37c-.4-.4-.92-.59-1.43-.59-.52 0-1.04.2-1.43.59L10.3 9.45l-7.72 7.72c-.78.78-.78 2.05 0 2.83L4 21.41c.39.39.9.59 1.41.59.51 0 1.02-.2 1.41-.59l7.78-7.78 2.81-2.81c.8-.78.8-2.07 0-2.86zM5.41 20L4 18.59l7.72-7.72 1.47 1.35L5.41 20z\"/>\n",
              "  </svg>\n",
              "      </button>\n",
              "      \n",
              "  <style>\n",
              "    .colab-df-container {\n",
              "      display:flex;\n",
              "      flex-wrap:wrap;\n",
              "      gap: 12px;\n",
              "    }\n",
              "\n",
              "    .colab-df-convert {\n",
              "      background-color: #E8F0FE;\n",
              "      border: none;\n",
              "      border-radius: 50%;\n",
              "      cursor: pointer;\n",
              "      display: none;\n",
              "      fill: #1967D2;\n",
              "      height: 32px;\n",
              "      padding: 0 0 0 0;\n",
              "      width: 32px;\n",
              "    }\n",
              "\n",
              "    .colab-df-convert:hover {\n",
              "      background-color: #E2EBFA;\n",
              "      box-shadow: 0px 1px 2px rgba(60, 64, 67, 0.3), 0px 1px 3px 1px rgba(60, 64, 67, 0.15);\n",
              "      fill: #174EA6;\n",
              "    }\n",
              "\n",
              "    [theme=dark] .colab-df-convert {\n",
              "      background-color: #3B4455;\n",
              "      fill: #D2E3FC;\n",
              "    }\n",
              "\n",
              "    [theme=dark] .colab-df-convert:hover {\n",
              "      background-color: #434B5C;\n",
              "      box-shadow: 0px 1px 3px 1px rgba(0, 0, 0, 0.15);\n",
              "      filter: drop-shadow(0px 1px 2px rgba(0, 0, 0, 0.3));\n",
              "      fill: #FFFFFF;\n",
              "    }\n",
              "  </style>\n",
              "\n",
              "      <script>\n",
              "        const buttonEl =\n",
              "          document.querySelector('#df-0b46756f-9af3-4531-bfc4-180f395dbe58 button.colab-df-convert');\n",
              "        buttonEl.style.display =\n",
              "          google.colab.kernel.accessAllowed ? 'block' : 'none';\n",
              "\n",
              "        async function convertToInteractive(key) {\n",
              "          const element = document.querySelector('#df-0b46756f-9af3-4531-bfc4-180f395dbe58');\n",
              "          const dataTable =\n",
              "            await google.colab.kernel.invokeFunction('convertToInteractive',\n",
              "                                                     [key], {});\n",
              "          if (!dataTable) return;\n",
              "\n",
              "          const docLinkHtml = 'Like what you see? Visit the ' +\n",
              "            '<a target=\"_blank\" href=https://colab.research.google.com/notebooks/data_table.ipynb>data table notebook</a>'\n",
              "            + ' to learn more about interactive tables.';\n",
              "          element.innerHTML = '';\n",
              "          dataTable['output_type'] = 'display_data';\n",
              "          await google.colab.output.renderOutput(dataTable, element);\n",
              "          const docLink = document.createElement('div');\n",
              "          docLink.innerHTML = docLinkHtml;\n",
              "          element.appendChild(docLink);\n",
              "        }\n",
              "      </script>\n",
              "    </div>\n",
              "  </div>\n",
              "  "
            ]
          },
          "metadata": {},
          "execution_count": 30
        }
      ]
    },
    {
      "cell_type": "markdown",
      "source": [
        "### Initialize parameters"
      ],
      "metadata": {
        "id": "8FszNJeVM-2r"
      }
    },
    {
      "cell_type": "code",
      "source": [
        "np.random.seed(42)\n",
        "\n",
        "theta = np.random.uniform(0, 1, X.shape[1] + 1)\n",
        "small_alpha = 0.0001\n",
        "large_alpha = 0.001\n",
        "batch_size = 50"
      ],
      "metadata": {
        "id": "o0nh_36DMu7L"
      },
      "execution_count": 31,
      "outputs": []
    },
    {
      "cell_type": "markdown",
      "source": [
        "### Batch Gradient Descent iteration"
      ],
      "metadata": {
        "id": "DYc4HEosQNKX"
      }
    },
    {
      "cell_type": "code",
      "source": [
        "%%time\n",
        "# Perform with learning rate = 0.0001 and 500 iterations\n",
        "small_theta_500, small_cost_history_500, _ = batch_gradient_descent(X=preprocessed_X, y=y, theta=theta, learning_rate=small_alpha, iterations=500)"
      ],
      "metadata": {
        "colab": {
          "base_uri": "https://localhost:8080/"
        },
        "id": "i0j_zsARQIqj",
        "outputId": "42790471-db5b-42ac-a73f-bdd69a3f4d32"
      },
      "execution_count": 32,
      "outputs": [
        {
          "output_type": "stream",
          "name": "stdout",
          "text": [
            "Iteration: 100 ----> cost: 0.87\n",
            "Iteration: 200 ----> cost: 0.86\n",
            "Iteration: 300 ----> cost: 0.86\n",
            "Iteration: 400 ----> cost: 0.85\n",
            "Iteration: 500 ----> cost: 0.84\n",
            "CPU times: user 454 ms, sys: 8.44 ms, total: 463 ms\n",
            "Wall time: 464 ms\n"
          ]
        }
      ]
    },
    {
      "cell_type": "code",
      "source": [
        "%%time\n",
        "# Perform with learning rate = 0.0001 and 1000 iterations\n",
        "small_theta_1000, small_cost_history_1000, _ = batch_gradient_descent(X=preprocessed_X, y=y, theta=theta, learning_rate=small_alpha, iterations=1000)"
      ],
      "metadata": {
        "colab": {
          "base_uri": "https://localhost:8080/"
        },
        "id": "R1jSxPEqRZU8",
        "outputId": "23816bee-c296-4483-8423-219336e24717"
      },
      "execution_count": 33,
      "outputs": [
        {
          "output_type": "stream",
          "name": "stdout",
          "text": [
            "Iteration: 100 ----> cost: 0.87\n",
            "Iteration: 200 ----> cost: 0.86\n",
            "Iteration: 300 ----> cost: 0.86\n",
            "Iteration: 400 ----> cost: 0.85\n",
            "Iteration: 500 ----> cost: 0.84\n",
            "Iteration: 600 ----> cost: 0.84\n",
            "Iteration: 700 ----> cost: 0.83\n",
            "Iteration: 800 ----> cost: 0.82\n",
            "Iteration: 900 ----> cost: 0.82\n",
            "Iteration: 1000 ----> cost: 0.81\n",
            "CPU times: user 739 ms, sys: 12.8 ms, total: 752 ms\n",
            "Wall time: 740 ms\n"
          ]
        }
      ]
    },
    {
      "cell_type": "code",
      "source": [
        "%%time\n",
        "# Perform with learning rate = 0.0001 and 10000 iterations\n",
        "small_theta_10000, small_cost_history_10000, _ = batch_gradient_descent(X=preprocessed_X, y=y, theta=theta, learning_rate=small_alpha, iterations=10000)"
      ],
      "metadata": {
        "colab": {
          "base_uri": "https://localhost:8080/"
        },
        "id": "eddk4MnITi4g",
        "outputId": "d9e5fb60-2ab9-450e-ce41-da8121ea9d71"
      },
      "execution_count": 34,
      "outputs": [
        {
          "output_type": "stream",
          "name": "stdout",
          "text": [
            "Iteration: 1000 ----> cost: 0.81\n",
            "Iteration: 2000 ----> cost: 0.76\n",
            "Iteration: 3000 ----> cost: 0.73\n",
            "Iteration: 4000 ----> cost: 0.71\n",
            "Iteration: 5000 ----> cost: 0.70\n",
            "Iteration: 6000 ----> cost: 0.70\n",
            "Iteration: 7000 ----> cost: 0.70\n",
            "Iteration: 8000 ----> cost: 0.69\n",
            "Iteration: 9000 ----> cost: 0.69\n",
            "Iteration: 10000 ----> cost: 0.69\n",
            "CPU times: user 7.06 s, sys: 37.2 ms, total: 7.09 s\n",
            "Wall time: 7.06 s\n"
          ]
        }
      ]
    },
    {
      "cell_type": "code",
      "source": [
        "%%time\n",
        "# Perform with learning rate = 0.001 and 500 iterations\n",
        "large_theta_500, large_cost_history_500, _ = batch_gradient_descent(X=preprocessed_X, y=y, theta=theta, learning_rate=large_alpha, iterations=500)"
      ],
      "metadata": {
        "colab": {
          "base_uri": "https://localhost:8080/"
        },
        "id": "PrbektnuTpVz",
        "outputId": "8e59818d-01d9-40e0-d207-78847a983ca8"
      },
      "execution_count": 35,
      "outputs": [
        {
          "output_type": "stream",
          "name": "stdout",
          "text": [
            "Iteration: 100 ----> cost: 0.81\n",
            "Iteration: 200 ----> cost: 0.76\n",
            "Iteration: 300 ----> cost: 0.73\n",
            "Iteration: 400 ----> cost: 0.71\n",
            "Iteration: 500 ----> cost: 0.70\n",
            "CPU times: user 376 ms, sys: 3.5 ms, total: 380 ms\n",
            "Wall time: 378 ms\n"
          ]
        }
      ]
    },
    {
      "cell_type": "code",
      "source": [
        "%%time\n",
        "# Perform with learning rate = 0.001 and 1000 iterations\n",
        "large_theta_1000, large_cost_history_1000, _ = batch_gradient_descent(X=preprocessed_X, y=y, theta=theta, learning_rate=large_alpha, iterations=1000)"
      ],
      "metadata": {
        "colab": {
          "base_uri": "https://localhost:8080/"
        },
        "id": "2t0w6v-GUFRG",
        "outputId": "982b9ad8-956d-493e-dd81-8bbfc43bacde"
      },
      "execution_count": 36,
      "outputs": [
        {
          "output_type": "stream",
          "name": "stdout",
          "text": [
            "Iteration: 100 ----> cost: 0.81\n",
            "Iteration: 200 ----> cost: 0.76\n",
            "Iteration: 300 ----> cost: 0.73\n",
            "Iteration: 400 ----> cost: 0.71\n",
            "Iteration: 500 ----> cost: 0.70\n",
            "Iteration: 600 ----> cost: 0.70\n",
            "Iteration: 700 ----> cost: 0.70\n",
            "Iteration: 800 ----> cost: 0.69\n",
            "Iteration: 900 ----> cost: 0.69\n",
            "Iteration: 1000 ----> cost: 0.69\n",
            "CPU times: user 750 ms, sys: 14.5 ms, total: 765 ms\n",
            "Wall time: 774 ms\n"
          ]
        }
      ]
    },
    {
      "cell_type": "code",
      "source": [
        "%%time\n",
        "# Perform with learning rate = 0.001 and 10000 iterations\n",
        "large_theta_10000, large_cost_history_10000, _ = batch_gradient_descent(X=preprocessed_X, y=y, theta=theta, learning_rate=large_alpha, iterations=10000)"
      ],
      "metadata": {
        "colab": {
          "base_uri": "https://localhost:8080/"
        },
        "id": "wOPTrRinUQce",
        "outputId": "90c7aa58-c4cc-4d10-e84d-ff0035eb1b8a"
      },
      "execution_count": 37,
      "outputs": [
        {
          "output_type": "stream",
          "name": "stdout",
          "text": [
            "Iteration: 1000 ----> cost: 0.69\n",
            "Iteration: 2000 ----> cost: 0.69\n",
            "Iteration: 3000 ----> cost: 0.69\n",
            "Iteration: 4000 ----> cost: 0.69\n",
            "Iteration: 5000 ----> cost: 0.69\n",
            "Iteration: 6000 ----> cost: 0.69\n",
            "Iteration: 7000 ----> cost: 0.69\n",
            "Iteration: 8000 ----> cost: 0.69\n",
            "Iteration: 9000 ----> cost: 0.69\n",
            "Iteration: 10000 ----> cost: 0.69\n",
            "CPU times: user 8.67 s, sys: 36.2 ms, total: 8.71 s\n",
            "Wall time: 8.82 s\n"
          ]
        }
      ]
    },
    {
      "cell_type": "code",
      "source": [
        "# Plot the learning curves\n",
        "plt.figure(figsize=(15, 10))\n",
        "\n",
        "plt.subplot(2, 3, 1)\n",
        "plt.plot(small_cost_history_500)\n",
        "plt.title('Learning rate 0.0001 and 500 iterations')\n",
        "\n",
        "plt.subplot(2, 3, 2)\n",
        "plt.plot(small_cost_history_1000)\n",
        "plt.title('Learning rate 0.0001 and 1000 iterations')\n",
        "\n",
        "plt.subplot(2, 3, 3)\n",
        "plt.plot(small_cost_history_10000)\n",
        "plt.title('Learning rate 0.0001 and 10000 iterations')\n",
        "\n",
        "plt.subplot(2, 3, 4) \n",
        "plt.plot(large_cost_history_500)\n",
        "plt.title('Learning rate 0.001 and 500 iterations')\n",
        "\n",
        "plt.subplot(2, 3, 5)\n",
        "plt.plot(large_cost_history_1000)\n",
        "plt.title('Learning rate 0.001 and 1000 iterations')\n",
        "\n",
        "plt.subplot(2, 3, 6)\n",
        "plt.plot(large_cost_history_10000)\n",
        "plt.title('Learning rate 0.001 and 10000 iterations')\n",
        "\n",
        "plt.tight_layout(h_pad=1.0)\n",
        "plt.suptitle('Learning curves of Batch Gradient Descent', fontsize=16)\n",
        "plt.subplots_adjust(top=0.88)\n",
        "plt.show()"
      ],
      "metadata": {
        "colab": {
          "base_uri": "https://localhost:8080/",
          "height": 726
        },
        "id": "PjvW__xvUbK2",
        "outputId": "33be15f8-461d-4f7b-ba5b-38c6824c2bab"
      },
      "execution_count": 38,
      "outputs": [
        {
          "output_type": "display_data",
          "data": {
            "text/plain": [
              "<Figure size 1080x720 with 6 Axes>"
            ],
            "image/png": "[encoded data removed]"
          },
          "metadata": {
            "needs_background": "light"
          }
        }
      ]
    },
    {
      "cell_type": "markdown",
      "source": [
        "In **Batch Gradient Descent**, all the training data is taken into consideration to take a single step. We take the average of the gradients of all the training examples and then use that mean gradient to update our parameters. So that’s just one step of gradient descent in one iteration. The graph of cost vs iterations is also quite smooth because we are averaging over all the gradients of training data for a single step. We observe that the cost keeps on decreasing over the iterations."
      ],
      "metadata": {
        "id": "4wigf-YsqeZB"
      }
    },
    {
      "cell_type": "markdown",
      "source": [
        "### Mini-batch Gradient Descent iteration"
      ],
      "metadata": {
        "id": "UUTSsIqfbhOS"
      }
    },
    {
      "cell_type": "code",
      "source": [
        "%%time\n",
        "# Perform with learning rate = 0.0001 and 500 iterations\n",
        "small_theta_mini_500, small_cost_history_mini_500 = mini_batch_gradient_descent(X=preprocessed_X, y=y, theta=theta, learning_rate=small_alpha, iterations=500, batch_size=batch_size)"
      ],
      "metadata": {
        "colab": {
          "base_uri": "https://localhost:8080/"
        },
        "id": "2e5H_ruQWh26",
        "outputId": "5f754e2f-00fa-40d2-8cfe-be2449c45d4c"
      },
      "execution_count": 39,
      "outputs": [
        {
          "output_type": "stream",
          "name": "stdout",
          "text": [
            "Iteration: 100 ----> cost: 9.15\n",
            "Iteration: 200 ----> cost: 8.70\n",
            "Iteration: 300 ----> cost: 8.68\n",
            "Iteration: 400 ----> cost: 8.50\n",
            "Iteration: 500 ----> cost: 8.34\n",
            "CPU times: user 5.46 s, sys: 113 ms, total: 5.58 s\n",
            "Wall time: 5.86 s\n"
          ]
        }
      ]
    },
    {
      "cell_type": "code",
      "source": [
        "%%time\n",
        "# Perform with learning rate = 0.0001 and 1000 iterations\n",
        "small_theta_mini_1000, small_cost_history_mini_1000 = mini_batch_gradient_descent(X=preprocessed_X, y=y, theta=theta, learning_rate=small_alpha, iterations=1000, batch_size=batch_size)"
      ],
      "metadata": {
        "colab": {
          "base_uri": "https://localhost:8080/"
        },
        "id": "JA8AqQ7Zeh3x",
        "outputId": "3c838e30-3e07-4516-be00-a416f94ef34d"
      },
      "execution_count": 40,
      "outputs": [
        {
          "output_type": "stream",
          "name": "stdout",
          "text": [
            "Iteration: 100 ----> cost: 9.15\n",
            "Iteration: 200 ----> cost: 8.70\n",
            "Iteration: 300 ----> cost: 8.68\n",
            "Iteration: 400 ----> cost: 8.50\n",
            "Iteration: 500 ----> cost: 8.34\n",
            "Iteration: 600 ----> cost: 8.68\n",
            "Iteration: 700 ----> cost: 8.26\n",
            "Iteration: 800 ----> cost: 8.28\n",
            "Iteration: 900 ----> cost: 8.56\n",
            "Iteration: 1000 ----> cost: 8.35\n",
            "CPU times: user 11.5 s, sys: 171 ms, total: 11.6 s\n",
            "Wall time: 12.1 s\n"
          ]
        }
      ]
    },
    {
      "cell_type": "code",
      "source": [
        "%%time\n",
        "# Perform with learning rate = 0.0001 and 10000 iterations\n",
        "small_theta_mini_10000, small_cost_history_mini_10000 = mini_batch_gradient_descent(X=preprocessed_X, y=y, theta=theta, learning_rate=small_alpha, iterations=10000, batch_size=batch_size)"
      ],
      "metadata": {
        "colab": {
          "base_uri": "https://localhost:8080/"
        },
        "id": "AokeF8ABlQAu",
        "outputId": "c8c385c7-b153-40fe-806b-cd22b15b6b78"
      },
      "execution_count": 41,
      "outputs": [
        {
          "output_type": "stream",
          "name": "stdout",
          "text": [
            "Iteration: 1000 ----> cost: 8.35\n",
            "Iteration: 2000 ----> cost: 7.69\n",
            "Iteration: 3000 ----> cost: 7.52\n",
            "Iteration: 4000 ----> cost: 7.09\n",
            "Iteration: 5000 ----> cost: 7.38\n",
            "Iteration: 6000 ----> cost: 6.89\n",
            "Iteration: 7000 ----> cost: 6.89\n",
            "Iteration: 8000 ----> cost: 7.00\n",
            "Iteration: 9000 ----> cost: 7.06\n",
            "Iteration: 10000 ----> cost: 6.96\n",
            "CPU times: user 1min 55s, sys: 1.62 s, total: 1min 56s\n",
            "Wall time: 1min 56s\n"
          ]
        }
      ]
    },
    {
      "cell_type": "code",
      "source": [
        "%%time\n",
        "# Perform with learning rate = 0.001 and 500 iterations\n",
        "large_theta_mini_500, large_cost_history_mini_500 = mini_batch_gradient_descent(X=preprocessed_X, y=y, theta=theta, learning_rate=large_alpha, iterations=500, batch_size=batch_size)"
      ],
      "metadata": {
        "colab": {
          "base_uri": "https://localhost:8080/"
        },
        "id": "I3GH9nualW8N",
        "outputId": "07a210e7-02e5-439c-a9d3-69bacfeaeaa2"
      },
      "execution_count": 42,
      "outputs": [
        {
          "output_type": "stream",
          "name": "stdout",
          "text": [
            "Iteration: 100 ----> cost: 8.51\n",
            "Iteration: 200 ----> cost: 7.67\n",
            "Iteration: 300 ----> cost: 7.36\n",
            "Iteration: 400 ----> cost: 7.12\n",
            "Iteration: 500 ----> cost: 6.92\n",
            "CPU times: user 6.51 s, sys: 67.9 ms, total: 6.58 s\n",
            "Wall time: 6.7 s\n"
          ]
        }
      ]
    },
    {
      "cell_type": "code",
      "source": [
        "%%time\n",
        "# Perform with learning rate = 0.001 and 1000 iterations\n",
        "large_theta_mini_1000, large_cost_history_mini_1000 = mini_batch_gradient_descent(X=preprocessed_X, y=y, theta=theta, learning_rate=large_alpha, iterations=1000, batch_size=batch_size)"
      ],
      "metadata": {
        "colab": {
          "base_uri": "https://localhost:8080/"
        },
        "id": "On_WBQOBmXHb",
        "outputId": "9c89c8a2-4cfd-44a3-8b0d-accbc3ac53ad"
      },
      "execution_count": 43,
      "outputs": [
        {
          "output_type": "stream",
          "name": "stdout",
          "text": [
            "Iteration: 100 ----> cost: 8.51\n",
            "Iteration: 200 ----> cost: 7.67\n",
            "Iteration: 300 ----> cost: 7.36\n",
            "Iteration: 400 ----> cost: 7.12\n",
            "Iteration: 500 ----> cost: 6.92\n",
            "Iteration: 600 ----> cost: 7.16\n",
            "Iteration: 700 ----> cost: 6.81\n",
            "Iteration: 800 ----> cost: 6.84\n",
            "Iteration: 900 ----> cost: 7.17\n",
            "Iteration: 1000 ----> cost: 6.97\n",
            "CPU times: user 11.7 s, sys: 225 ms, total: 11.9 s\n",
            "Wall time: 11.7 s\n"
          ]
        }
      ]
    },
    {
      "cell_type": "code",
      "source": [
        "%%time\n",
        "# Perform with learning rate = 0.001 and 10000 iterations\n",
        "large_theta_mini_10000, large_cost_history_mini_10000 = mini_batch_gradient_descent(X=preprocessed_X, y=y, theta=theta, learning_rate=large_alpha, iterations=10000, batch_size=batch_size)"
      ],
      "metadata": {
        "colab": {
          "base_uri": "https://localhost:8080/"
        },
        "id": "eRlTD7aXmoos",
        "outputId": "0138432a-5bd3-44e1-bf04-2be85c68182c"
      },
      "execution_count": 44,
      "outputs": [
        {
          "output_type": "stream",
          "name": "stdout",
          "text": [
            "Iteration: 1000 ----> cost: 6.97\n",
            "Iteration: 2000 ----> cost: 6.88\n",
            "Iteration: 3000 ----> cost: 7.01\n",
            "Iteration: 4000 ----> cost: 6.87\n",
            "Iteration: 5000 ----> cost: 7.17\n",
            "Iteration: 6000 ----> cost: 6.82\n",
            "Iteration: 7000 ----> cost: 6.86\n",
            "Iteration: 8000 ----> cost: 6.97\n",
            "Iteration: 9000 ----> cost: 7.04\n",
            "Iteration: 10000 ----> cost: 6.95\n",
            "CPU times: user 1min 53s, sys: 1.39 s, total: 1min 55s\n",
            "Wall time: 1min 54s\n"
          ]
        }
      ]
    },
    {
      "cell_type": "code",
      "source": [
        "# Plot the learning curves\n",
        "plt.figure(figsize=(15, 10))\n",
        "\n",
        "plt.subplot(2, 3, 1)\n",
        "plt.plot(small_cost_history_mini_500)\n",
        "plt.title('Learning rate 0.0001 and 500 iterations')\n",
        "\n",
        "plt.subplot(2, 3, 2)\n",
        "plt.plot(small_cost_history_mini_1000)\n",
        "plt.title('Learning rate 0.0001 and 1000 iterations')\n",
        "\n",
        "plt.subplot(2, 3, 3)\n",
        "plt.plot(small_cost_history_mini_10000)\n",
        "plt.title('Learning rate 0.0001 and 10000 iterations')\n",
        "\n",
        "plt.subplot(2, 3, 4) \n",
        "plt.plot(large_cost_history_mini_500)\n",
        "plt.title('Learning rate 0.001 and 500 iterations')\n",
        "\n",
        "plt.subplot(2, 3, 5)\n",
        "plt.plot(large_cost_history_mini_1000)\n",
        "plt.title('Learning rate 0.001 and 1000 iterations')\n",
        "\n",
        "plt.subplot(2, 3, 6)\n",
        "plt.plot(large_cost_history_mini_10000)\n",
        "plt.title('Learning rate 0.001 and 10000 iterations')\n",
        "\n",
        "plt.tight_layout(h_pad=1.0)\n",
        "plt.suptitle('Learning curves of Mini-batch Gradient Descent', fontsize=16)\n",
        "plt.subplots_adjust(top=0.88)\n",
        "plt.show()"
      ],
      "metadata": {
        "colab": {
          "base_uri": "https://localhost:8080/",
          "height": 726
        },
        "id": "z05Hw_znqhPI",
        "outputId": "d8200e9d-3be2-43d9-fa72-373f09d140cc"
      },
      "execution_count": 45,
      "outputs": [
        {
          "output_type": "display_data",
          "data": {
            "text/plain": [
              "<Figure size 1080x720 with 6 Axes>"
            ],
            "image/png": "[encoded data removed]"
          },
          "metadata": {
            "needs_background": "light"
          }
        }
      ]
    },
    {
      "cell_type": "markdown",
      "source": [
        "In **Mini-batch Gradient Descent**, we use a batch of a fixed number of training examples which is less than the actual dataset and call it a mini-batch. Doing this helps us achieve the advantages of both the former variants we saw. The average cost over the iterations in mini-batch gradient descent fluctuates because we are averaging a small number of examples at a time. So, when we are using the mini-batch gradient descent we are updating our parameters frequently as well as we can use vectorized implementation for faster computations."
      ],
      "metadata": {
        "id": "rRwqhH57q4VW"
      }
    },
    {
      "cell_type": "markdown",
      "source": [
        "## Logistic Regression using Scikit-Learn "
      ],
      "metadata": {
        "id": "aGp7gz3DYABO"
      }
    },
    {
      "cell_type": "code",
      "source": [
        "X_train = np.c_[np.ones((len(preprocessed_X), 1)), preprocessed_X]"
      ],
      "metadata": {
        "id": "KAzjPjtJc6u4"
      },
      "execution_count": 46,
      "outputs": []
    },
    {
      "cell_type": "code",
      "source": [
        "# Innitiallize model\n",
        "clf = LogisticRegression()\n",
        "\n",
        "# Fit the data into the model\n",
        "clf.fit(X_train, y)"
      ],
      "metadata": {
        "colab": {
          "base_uri": "https://localhost:8080/"
        },
        "id": "1xq6XigoZOoJ",
        "outputId": "e155ae69-a0be-4ac3-8669-b1c3d710b0e9"
      },
      "execution_count": 47,
      "outputs": [
        {
          "output_type": "execute_result",
          "data": {
            "text/plain": [
              "LogisticRegression()"
            ]
          },
          "metadata": {},
          "execution_count": 47
        }
      ]
    },
    {
      "cell_type": "code",
      "source": [
        "coef_dict = {\n",
        "    'Logistic Regression': clf.coef_[0].round(2),\n",
        "    'Batch Gradient Descent': large_theta_10000.round(2),\n",
        "    'Mini-batch Gradient Descent': large_theta_mini_10000.round(2)\n",
        "}"
      ],
      "metadata": {
        "id": "xYRt7RKDkBaV"
      },
      "execution_count": 48,
      "outputs": []
    },
    {
      "cell_type": "code",
      "source": [
        "coefficients = pd.DataFrame(coef_dict, index = ['theta0'] + list(preprocessed_X.columns))\n",
        "coefficients.T"
      ],
      "metadata": {
        "colab": {
          "base_uri": "https://localhost:8080/",
          "height": 143
        },
        "id": "UZS3-KDgk_y6",
        "outputId": "e4a87e07-80ea-4bf7-db1a-418163c6808b"
      },
      "execution_count": 49,
      "outputs": [
        {
          "output_type": "execute_result",
          "data": {
            "text/plain": [
              "                             theta0   sbp  tobacco   ldl  adiposity  typea  \\\n",
              "Logistic Regression           -0.00  0.13     0.36  0.36       0.14   0.38   \n",
              "Batch Gradient Descent         0.02  0.59     0.37  0.24      -0.20  -0.20   \n",
              "Mini-batch Gradient Descent    0.02  0.59     0.37  0.24      -0.20  -0.20   \n",
              "\n",
              "                             obesity  alcohol   age  famhist_Present  \n",
              "Logistic Regression            -0.26     0.00  0.65             0.88  \n",
              "Batch Gradient Descent         -0.30     0.51  0.24             0.35  \n",
              "Mini-batch Gradient Descent    -0.30     0.51  0.24             0.35  "
            ],
            "text/html": [
              "\n",
              "  <div id=\"df-7a606c37-906a-442e-a21e-9f267bb0a3fe\">\n",
              "    <div class=\"colab-df-container\">\n",
              "      <div>\n",
              "<style scoped>\n",
              "    .dataframe tbody tr th:only-of-type {\n",
              "        vertical-align: middle;\n",
              "    }\n",
              "\n",
              "    .dataframe tbody tr th {\n",
              "        vertical-align: top;\n",
              "    }\n",
              "\n",
              "    .dataframe thead th {\n",
              "        text-align: right;\n",
              "    }\n",
              "</style>\n",
              "<table border=\"1\" class=\"dataframe\">\n",
              "  <thead>\n",
              "    <tr style=\"text-align: right;\">\n",
              "      <th></th>\n",
              "      <th>theta0</th>\n",
              "      <th>sbp</th>\n",
              "      <th>tobacco</th>\n",
              "      <th>ldl</th>\n",
              "      <th>adiposity</th>\n",
              "      <th>typea</th>\n",
              "      <th>obesity</th>\n",
              "      <th>alcohol</th>\n",
              "      <th>age</th>\n",
              "      <th>famhist_Present</th>\n",
              "    </tr>\n",
              "  </thead>\n",
              "  <tbody>\n",
              "    <tr>\n",
              "      <th>Logistic Regression</th>\n",
              "      <td>-0.00</td>\n",
              "      <td>0.13</td>\n",
              "      <td>0.36</td>\n",
              "      <td>0.36</td>\n",
              "      <td>0.14</td>\n",
              "      <td>0.38</td>\n",
              "      <td>-0.26</td>\n",
              "      <td>0.00</td>\n",
              "      <td>0.65</td>\n",
              "      <td>0.88</td>\n",
              "    </tr>\n",
              "    <tr>\n",
              "      <th>Batch Gradient Descent</th>\n",
              "      <td>0.02</td>\n",
              "      <td>0.59</td>\n",
              "      <td>0.37</td>\n",
              "      <td>0.24</td>\n",
              "      <td>-0.20</td>\n",
              "      <td>-0.20</td>\n",
              "      <td>-0.30</td>\n",
              "      <td>0.51</td>\n",
              "      <td>0.24</td>\n",
              "      <td>0.35</td>\n",
              "    </tr>\n",
              "    <tr>\n",
              "      <th>Mini-batch Gradient Descent</th>\n",
              "      <td>0.02</td>\n",
              "      <td>0.59</td>\n",
              "      <td>0.37</td>\n",
              "      <td>0.24</td>\n",
              "      <td>-0.20</td>\n",
              "      <td>-0.20</td>\n",
              "      <td>-0.30</td>\n",
              "      <td>0.51</td>\n",
              "      <td>0.24</td>\n",
              "      <td>0.35</td>\n",
              "    </tr>\n",
              "  </tbody>\n",
              "</table>\n",
              "</div>\n",
              "      <button class=\"colab-df-convert\" onclick=\"convertToInteractive('df-7a606c37-906a-442e-a21e-9f267bb0a3fe')\"\n",
              "              title=\"Convert this dataframe to an interactive table.\"\n",
              "              style=\"display:none;\">\n",
              "        \n",
              "  <svg xmlns=\"http://www.w3.org/2000/svg\" height=\"24px\"viewBox=\"0 0 24 24\"\n",
              "       width=\"24px\">\n",
              "    <path d=\"M0 0h24v24H0V0z\" fill=\"none\"/>\n",
              "    <path d=\"M18.56 5.44l.94 2.06.94-2.06 2.06-.94-2.06-.94-.94-2.06-.94 2.06-2.06.94zm-11 1L8.5 8.5l.94-2.06 2.06-.94-2.06-.94L8.5 2.5l-.94 2.06-2.06.94zm10 10l.94 2.06.94-2.06 2.06-.94-2.06-.94-.94-2.06-.94 2.06-2.06.94z\"/><path d=\"M17.41 7.96l-1.37-1.37c-.4-.4-.92-.59-1.43-.59-.52 0-1.04.2-1.43.59L10.3 9.45l-7.72 7.72c-.78.78-.78 2.05 0 2.83L4 21.41c.39.39.9.59 1.41.59.51 0 1.02-.2 1.41-.59l7.78-7.78 2.81-2.81c.8-.78.8-2.07 0-2.86zM5.41 20L4 18.59l7.72-7.72 1.47 1.35L5.41 20z\"/>\n",
              "  </svg>\n",
              "      </button>\n",
              "      \n",
              "  <style>\n",
              "    .colab-df-container {\n",
              "      display:flex;\n",
              "      flex-wrap:wrap;\n",
              "      gap: 12px;\n",
              "    }\n",
              "\n",
              "    .colab-df-convert {\n",
              "      background-color: #E8F0FE;\n",
              "      border: none;\n",
              "      border-radius: 50%;\n",
              "      cursor: pointer;\n",
              "      display: none;\n",
              "      fill: #1967D2;\n",
              "      height: 32px;\n",
              "      padding: 0 0 0 0;\n",
              "      width: 32px;\n",
              "    }\n",
              "\n",
              "    .colab-df-convert:hover {\n",
              "      background-color: #E2EBFA;\n",
              "      box-shadow: 0px 1px 2px rgba(60, 64, 67, 0.3), 0px 1px 3px 1px rgba(60, 64, 67, 0.15);\n",
              "      fill: #174EA6;\n",
              "    }\n",
              "\n",
              "    [theme=dark] .colab-df-convert {\n",
              "      background-color: #3B4455;\n",
              "      fill: #D2E3FC;\n",
              "    }\n",
              "\n",
              "    [theme=dark] .colab-df-convert:hover {\n",
              "      background-color: #434B5C;\n",
              "      box-shadow: 0px 1px 3px 1px rgba(0, 0, 0, 0.15);\n",
              "      filter: drop-shadow(0px 1px 2px rgba(0, 0, 0, 0.3));\n",
              "      fill: #FFFFFF;\n",
              "    }\n",
              "  </style>\n",
              "\n",
              "      <script>\n",
              "        const buttonEl =\n",
              "          document.querySelector('#df-7a606c37-906a-442e-a21e-9f267bb0a3fe button.colab-df-convert');\n",
              "        buttonEl.style.display =\n",
              "          google.colab.kernel.accessAllowed ? 'block' : 'none';\n",
              "\n",
              "        async function convertToInteractive(key) {\n",
              "          const element = document.querySelector('#df-7a606c37-906a-442e-a21e-9f267bb0a3fe');\n",
              "          const dataTable =\n",
              "            await google.colab.kernel.invokeFunction('convertToInteractive',\n",
              "                                                     [key], {});\n",
              "          if (!dataTable) return;\n",
              "\n",
              "          const docLinkHtml = 'Like what you see? Visit the ' +\n",
              "            '<a target=\"_blank\" href=https://colab.research.google.com/notebooks/data_table.ipynb>data table notebook</a>'\n",
              "            + ' to learn more about interactive tables.';\n",
              "          element.innerHTML = '';\n",
              "          dataTable['output_type'] = 'display_data';\n",
              "          await google.colab.output.renderOutput(dataTable, element);\n",
              "          const docLink = document.createElement('div');\n",
              "          docLink.innerHTML = docLinkHtml;\n",
              "          element.appendChild(docLink);\n",
              "        }\n",
              "      </script>\n",
              "    </div>\n",
              "  </div>\n",
              "  "
            ]
          },
          "metadata": {},
          "execution_count": 49
        }
      ]
    },
    {
      "cell_type": "markdown",
      "source": [
        "In some cases the magnitude of the weights can provide information about the feature importance in a logistic regression model. Features with larger absolute weights tend to have a greater impact on the prediction output. This is because the magnitude of the weight indicates the contribution of the corresponding feature to the dot product that computes the model's prediction.\n",
        "\n",
        "However, it's important to keep in mind that the relationship between feature importance and weight magnitude can be affected by the scaling of the input features. For example, if a feature is scaled by a large factor, its corresponding weight will also be large, even if the feature is not particularly important.\n",
        "\n",
        "Additionally, it's important to note that the interpretation of feature importance based on weight magnitude is not always straightforward, especially in cases where the features are highly correlated with each other. In such cases, the magnitude of the weights might not accurately reflect the feature importance.\n",
        "\n",
        "Overall, the relationship between weight magnitude and feature importance can provide useful information, but it should be considered in conjunction with other methods for evaluating feature importance, such as feature selection or feature importance from an ensemble of models."
      ],
      "metadata": {
        "id": "2IZSmdHjpfd_"
      }
    }
  ]
}