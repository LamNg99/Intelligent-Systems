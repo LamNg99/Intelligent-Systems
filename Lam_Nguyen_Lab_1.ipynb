{
  "nbformat": 4,
  "nbformat_minor": 0,
  "metadata": {
    "colab": {
      "provenance": [],
      "toc_visible": true,
      "mount_file_id": "1Qz1O3iKiADWA4tjLg88hC9aZKpzlCNqQ",
      "authorship_tag": "ABX9TyMcpn7uiFZfMkilx4hBeiVb",
      "include_colab_link": true
    },
    "kernelspec": {
      "name": "python3",
      "display_name": "Python 3"
    },
    "language_info": {
      "name": "python"
    }
  },
  "cells": [
    {
      "cell_type": "markdown",
      "metadata": {
        "id": "view-in-github",
        "colab_type": "text"
      },
      "source": [
        "<a href=\"https://colab.research.google.com/github/LamNg99/Intelligent-Systems/blob/main/Lam_Nguyen_Lab_1.ipynb\" target=\"_parent\"><img src=\"https://colab.research.google.com/assets/colab-badge.svg\" alt=\"Open In Colab\"/></a>"
      ]
    },
    {
      "cell_type": "markdown",
      "source": [
        "# Lab  #1\n",
        "\n",
        "First and Last Name: Lam Nguyen\n",
        "\n",
        "Student ID: 500838417\n",
        "\n",
        "Video URL: -----------------------"
      ],
      "metadata": {
        "id": "7aVdiS7qzF51"
      }
    },
    {
      "cell_type": "markdown",
      "source": [
        "# Gradient Descent for Univariate Linear Regression\n",
        "This notebook looks into Python_based codes in attempt to implement Gradient Descent for solving a linear regression problem. The overall goal aims to builds a machine learning model capable of predicting the final mark based on the midterm mark using the [student marks data set](https://raw.githubusercontent.com/tofighi/MachineLearning/master/datasets/student_marks.csv)."
      ],
      "metadata": {
        "id": "UWlskpFWzomB"
      }
    },
    {
      "cell_type": "code",
      "source": [
        "# Regular EDA (exploratory data analysis) and plotting libraries\n",
        "import numpy as np\n",
        "import pandas as pd\n",
        "import matplotlib.pyplot as plt\n",
        "\n",
        "# Models from Scikit-Learn\n",
        "from sklearn.linear_model import LinearRegression\n",
        "\n",
        "# Model Evaluations\n",
        "from sklearn.metrics import mean_squared_error"
      ],
      "metadata": {
        "id": "x97O77J8zG1L"
      },
      "execution_count": null,
      "outputs": []
    },
    {
      "cell_type": "markdown",
      "source": [
        "## Data preparation and EDA\n",
        "The dataset contains the midterm marks and final marks of 100 students in the previous semester without missing any value."
      ],
      "metadata": {
        "id": "Wf73a5Xo8e4H"
      }
    },
    {
      "cell_type": "code",
      "source": [
        "# Load data\n",
        "df = pd.read_csv('/content/drive/MyDrive/ELE888 data/student_marks.csv')\n",
        "df.shape # (rows, columns)"
      ],
      "metadata": {
        "colab": {
          "base_uri": "https://localhost:8080/"
        },
        "id": "dx_2VVbT8cse",
        "outputId": "3cac84bd-e9dd-40cc-e666-e21d428b8267"
      },
      "execution_count": null,
      "outputs": [
        {
          "output_type": "execute_result",
          "data": {
            "text/plain": [
              "(100, 2)"
            ]
          },
          "metadata": {},
          "execution_count": 54
        }
      ]
    },
    {
      "cell_type": "code",
      "source": [
        "df.head()"
      ],
      "metadata": {
        "colab": {
          "base_uri": "https://localhost:8080/",
          "height": 206
        },
        "id": "auBov1KM9rcJ",
        "outputId": "002a5b5b-f259-4afa-cdf5-cc9b57ce4b62"
      },
      "execution_count": null,
      "outputs": [
        {
          "output_type": "execute_result",
          "data": {
            "text/plain": [
              "   Midterm mark  Final mark\n",
              "0          32.5        31.7\n",
              "1          53.4        68.8\n",
              "2          61.5        62.6\n",
              "3          47.5        71.5\n",
              "4          59.8        87.2"
            ],
            "text/html": [
              "\n",
              "  <div id=\"df-9e3191a7-804c-495e-8d5c-6e478e5f4430\">\n",
              "    <div class=\"colab-df-container\">\n",
              "      <div>\n",
              "<style scoped>\n",
              "    .dataframe tbody tr th:only-of-type {\n",
              "        vertical-align: middle;\n",
              "    }\n",
              "\n",
              "    .dataframe tbody tr th {\n",
              "        vertical-align: top;\n",
              "    }\n",
              "\n",
              "    .dataframe thead th {\n",
              "        text-align: right;\n",
              "    }\n",
              "</style>\n",
              "<table border=\"1\" class=\"dataframe\">\n",
              "  <thead>\n",
              "    <tr style=\"text-align: right;\">\n",
              "      <th></th>\n",
              "      <th>Midterm mark</th>\n",
              "      <th>Final mark</th>\n",
              "    </tr>\n",
              "  </thead>\n",
              "  <tbody>\n",
              "    <tr>\n",
              "      <th>0</th>\n",
              "      <td>32.5</td>\n",
              "      <td>31.7</td>\n",
              "    </tr>\n",
              "    <tr>\n",
              "      <th>1</th>\n",
              "      <td>53.4</td>\n",
              "      <td>68.8</td>\n",
              "    </tr>\n",
              "    <tr>\n",
              "      <th>2</th>\n",
              "      <td>61.5</td>\n",
              "      <td>62.6</td>\n",
              "    </tr>\n",
              "    <tr>\n",
              "      <th>3</th>\n",
              "      <td>47.5</td>\n",
              "      <td>71.5</td>\n",
              "    </tr>\n",
              "    <tr>\n",
              "      <th>4</th>\n",
              "      <td>59.8</td>\n",
              "      <td>87.2</td>\n",
              "    </tr>\n",
              "  </tbody>\n",
              "</table>\n",
              "</div>\n",
              "      <button class=\"colab-df-convert\" onclick=\"convertToInteractive('df-9e3191a7-804c-495e-8d5c-6e478e5f4430')\"\n",
              "              title=\"Convert this dataframe to an interactive table.\"\n",
              "              style=\"display:none;\">\n",
              "        \n",
              "  <svg xmlns=\"http://www.w3.org/2000/svg\" height=\"24px\"viewBox=\"0 0 24 24\"\n",
              "       width=\"24px\">\n",
              "    <path d=\"M0 0h24v24H0V0z\" fill=\"none\"/>\n",
              "    <path d=\"M18.56 5.44l.94 2.06.94-2.06 2.06-.94-2.06-.94-.94-2.06-.94 2.06-2.06.94zm-11 1L8.5 8.5l.94-2.06 2.06-.94-2.06-.94L8.5 2.5l-.94 2.06-2.06.94zm10 10l.94 2.06.94-2.06 2.06-.94-2.06-.94-.94-2.06-.94 2.06-2.06.94z\"/><path d=\"M17.41 7.96l-1.37-1.37c-.4-.4-.92-.59-1.43-.59-.52 0-1.04.2-1.43.59L10.3 9.45l-7.72 7.72c-.78.78-.78 2.05 0 2.83L4 21.41c.39.39.9.59 1.41.59.51 0 1.02-.2 1.41-.59l7.78-7.78 2.81-2.81c.8-.78.8-2.07 0-2.86zM5.41 20L4 18.59l7.72-7.72 1.47 1.35L5.41 20z\"/>\n",
              "  </svg>\n",
              "      </button>\n",
              "      \n",
              "  <style>\n",
              "    .colab-df-container {\n",
              "      display:flex;\n",
              "      flex-wrap:wrap;\n",
              "      gap: 12px;\n",
              "    }\n",
              "\n",
              "    .colab-df-convert {\n",
              "      background-color: #E8F0FE;\n",
              "      border: none;\n",
              "      border-radius: 50%;\n",
              "      cursor: pointer;\n",
              "      display: none;\n",
              "      fill: #1967D2;\n",
              "      height: 32px;\n",
              "      padding: 0 0 0 0;\n",
              "      width: 32px;\n",
              "    }\n",
              "\n",
              "    .colab-df-convert:hover {\n",
              "      background-color: #E2EBFA;\n",
              "      box-shadow: 0px 1px 2px rgba(60, 64, 67, 0.3), 0px 1px 3px 1px rgba(60, 64, 67, 0.15);\n",
              "      fill: #174EA6;\n",
              "    }\n",
              "\n",
              "    [theme=dark] .colab-df-convert {\n",
              "      background-color: #3B4455;\n",
              "      fill: #D2E3FC;\n",
              "    }\n",
              "\n",
              "    [theme=dark] .colab-df-convert:hover {\n",
              "      background-color: #434B5C;\n",
              "      box-shadow: 0px 1px 3px 1px rgba(0, 0, 0, 0.15);\n",
              "      filter: drop-shadow(0px 1px 2px rgba(0, 0, 0, 0.3));\n",
              "      fill: #FFFFFF;\n",
              "    }\n",
              "  </style>\n",
              "\n",
              "      <script>\n",
              "        const buttonEl =\n",
              "          document.querySelector('#df-9e3191a7-804c-495e-8d5c-6e478e5f4430 button.colab-df-convert');\n",
              "        buttonEl.style.display =\n",
              "          google.colab.kernel.accessAllowed ? 'block' : 'none';\n",
              "\n",
              "        async function convertToInteractive(key) {\n",
              "          const element = document.querySelector('#df-9e3191a7-804c-495e-8d5c-6e478e5f4430');\n",
              "          const dataTable =\n",
              "            await google.colab.kernel.invokeFunction('convertToInteractive',\n",
              "                                                     [key], {});\n",
              "          if (!dataTable) return;\n",
              "\n",
              "          const docLinkHtml = 'Like what you see? Visit the ' +\n",
              "            '<a target=\"_blank\" href=https://colab.research.google.com/notebooks/data_table.ipynb>data table notebook</a>'\n",
              "            + ' to learn more about interactive tables.';\n",
              "          element.innerHTML = '';\n",
              "          dataTable['output_type'] = 'display_data';\n",
              "          await google.colab.output.renderOutput(dataTable, element);\n",
              "          const docLink = document.createElement('div');\n",
              "          docLink.innerHTML = docLinkHtml;\n",
              "          element.appendChild(docLink);\n",
              "        }\n",
              "      </script>\n",
              "    </div>\n",
              "  </div>\n",
              "  "
            ]
          },
          "metadata": {},
          "execution_count": 55
        }
      ]
    },
    {
      "cell_type": "code",
      "source": [
        "df.describe()"
      ],
      "metadata": {
        "colab": {
          "base_uri": "https://localhost:8080/",
          "height": 300
        },
        "id": "M97C0uPf93vI",
        "outputId": "861e3f36-08a4-4896-ec94-51df295ab41b"
      },
      "execution_count": null,
      "outputs": [
        {
          "output_type": "execute_result",
          "data": {
            "text/plain": [
              "       Midterm mark  Final mark\n",
              "count    100.000000  100.000000\n",
              "mean      48.959000   72.735000\n",
              "std        9.746495   16.658249\n",
              "min       25.100000   31.700000\n",
              "25%       41.550000   60.775000\n",
              "50%       49.600000   72.150000\n",
              "75%       56.750000   83.175000\n",
              "max       70.300000  118.600000"
            ],
            "text/html": [
              "\n",
              "  <div id=\"df-640637bd-bd37-49eb-9f58-e82d995211b4\">\n",
              "    <div class=\"colab-df-container\">\n",
              "      <div>\n",
              "<style scoped>\n",
              "    .dataframe tbody tr th:only-of-type {\n",
              "        vertical-align: middle;\n",
              "    }\n",
              "\n",
              "    .dataframe tbody tr th {\n",
              "        vertical-align: top;\n",
              "    }\n",
              "\n",
              "    .dataframe thead th {\n",
              "        text-align: right;\n",
              "    }\n",
              "</style>\n",
              "<table border=\"1\" class=\"dataframe\">\n",
              "  <thead>\n",
              "    <tr style=\"text-align: right;\">\n",
              "      <th></th>\n",
              "      <th>Midterm mark</th>\n",
              "      <th>Final mark</th>\n",
              "    </tr>\n",
              "  </thead>\n",
              "  <tbody>\n",
              "    <tr>\n",
              "      <th>count</th>\n",
              "      <td>100.000000</td>\n",
              "      <td>100.000000</td>\n",
              "    </tr>\n",
              "    <tr>\n",
              "      <th>mean</th>\n",
              "      <td>48.959000</td>\n",
              "      <td>72.735000</td>\n",
              "    </tr>\n",
              "    <tr>\n",
              "      <th>std</th>\n",
              "      <td>9.746495</td>\n",
              "      <td>16.658249</td>\n",
              "    </tr>\n",
              "    <tr>\n",
              "      <th>min</th>\n",
              "      <td>25.100000</td>\n",
              "      <td>31.700000</td>\n",
              "    </tr>\n",
              "    <tr>\n",
              "      <th>25%</th>\n",
              "      <td>41.550000</td>\n",
              "      <td>60.775000</td>\n",
              "    </tr>\n",
              "    <tr>\n",
              "      <th>50%</th>\n",
              "      <td>49.600000</td>\n",
              "      <td>72.150000</td>\n",
              "    </tr>\n",
              "    <tr>\n",
              "      <th>75%</th>\n",
              "      <td>56.750000</td>\n",
              "      <td>83.175000</td>\n",
              "    </tr>\n",
              "    <tr>\n",
              "      <th>max</th>\n",
              "      <td>70.300000</td>\n",
              "      <td>118.600000</td>\n",
              "    </tr>\n",
              "  </tbody>\n",
              "</table>\n",
              "</div>\n",
              "      <button class=\"colab-df-convert\" onclick=\"convertToInteractive('df-640637bd-bd37-49eb-9f58-e82d995211b4')\"\n",
              "              title=\"Convert this dataframe to an interactive table.\"\n",
              "              style=\"display:none;\">\n",
              "        \n",
              "  <svg xmlns=\"http://www.w3.org/2000/svg\" height=\"24px\"viewBox=\"0 0 24 24\"\n",
              "       width=\"24px\">\n",
              "    <path d=\"M0 0h24v24H0V0z\" fill=\"none\"/>\n",
              "    <path d=\"M18.56 5.44l.94 2.06.94-2.06 2.06-.94-2.06-.94-.94-2.06-.94 2.06-2.06.94zm-11 1L8.5 8.5l.94-2.06 2.06-.94-2.06-.94L8.5 2.5l-.94 2.06-2.06.94zm10 10l.94 2.06.94-2.06 2.06-.94-2.06-.94-.94-2.06-.94 2.06-2.06.94z\"/><path d=\"M17.41 7.96l-1.37-1.37c-.4-.4-.92-.59-1.43-.59-.52 0-1.04.2-1.43.59L10.3 9.45l-7.72 7.72c-.78.78-.78 2.05 0 2.83L4 21.41c.39.39.9.59 1.41.59.51 0 1.02-.2 1.41-.59l7.78-7.78 2.81-2.81c.8-.78.8-2.07 0-2.86zM5.41 20L4 18.59l7.72-7.72 1.47 1.35L5.41 20z\"/>\n",
              "  </svg>\n",
              "      </button>\n",
              "      \n",
              "  <style>\n",
              "    .colab-df-container {\n",
              "      display:flex;\n",
              "      flex-wrap:wrap;\n",
              "      gap: 12px;\n",
              "    }\n",
              "\n",
              "    .colab-df-convert {\n",
              "      background-color: #E8F0FE;\n",
              "      border: none;\n",
              "      border-radius: 50%;\n",
              "      cursor: pointer;\n",
              "      display: none;\n",
              "      fill: #1967D2;\n",
              "      height: 32px;\n",
              "      padding: 0 0 0 0;\n",
              "      width: 32px;\n",
              "    }\n",
              "\n",
              "    .colab-df-convert:hover {\n",
              "      background-color: #E2EBFA;\n",
              "      box-shadow: 0px 1px 2px rgba(60, 64, 67, 0.3), 0px 1px 3px 1px rgba(60, 64, 67, 0.15);\n",
              "      fill: #174EA6;\n",
              "    }\n",
              "\n",
              "    [theme=dark] .colab-df-convert {\n",
              "      background-color: #3B4455;\n",
              "      fill: #D2E3FC;\n",
              "    }\n",
              "\n",
              "    [theme=dark] .colab-df-convert:hover {\n",
              "      background-color: #434B5C;\n",
              "      box-shadow: 0px 1px 3px 1px rgba(0, 0, 0, 0.15);\n",
              "      filter: drop-shadow(0px 1px 2px rgba(0, 0, 0, 0.3));\n",
              "      fill: #FFFFFF;\n",
              "    }\n",
              "  </style>\n",
              "\n",
              "      <script>\n",
              "        const buttonEl =\n",
              "          document.querySelector('#df-640637bd-bd37-49eb-9f58-e82d995211b4 button.colab-df-convert');\n",
              "        buttonEl.style.display =\n",
              "          google.colab.kernel.accessAllowed ? 'block' : 'none';\n",
              "\n",
              "        async function convertToInteractive(key) {\n",
              "          const element = document.querySelector('#df-640637bd-bd37-49eb-9f58-e82d995211b4');\n",
              "          const dataTable =\n",
              "            await google.colab.kernel.invokeFunction('convertToInteractive',\n",
              "                                                     [key], {});\n",
              "          if (!dataTable) return;\n",
              "\n",
              "          const docLinkHtml = 'Like what you see? Visit the ' +\n",
              "            '<a target=\"_blank\" href=https://colab.research.google.com/notebooks/data_table.ipynb>data table notebook</a>'\n",
              "            + ' to learn more about interactive tables.';\n",
              "          element.innerHTML = '';\n",
              "          dataTable['output_type'] = 'display_data';\n",
              "          await google.colab.output.renderOutput(dataTable, element);\n",
              "          const docLink = document.createElement('div');\n",
              "          docLink.innerHTML = docLinkHtml;\n",
              "          element.appendChild(docLink);\n",
              "        }\n",
              "      </script>\n",
              "    </div>\n",
              "  </div>\n",
              "  "
            ]
          },
          "metadata": {},
          "execution_count": 56
        }
      ]
    },
    {
      "cell_type": "code",
      "source": [
        "midterm_mean = df['Midterm mark'].mean()\n",
        "midterm_std =df['Midterm mark'].std()\n",
        "final_mean = df['Final mark'].mean()\n",
        "final_std = df['Final mark'].std()"
      ],
      "metadata": {
        "id": "FggDAjCkA-L9"
      },
      "execution_count": null,
      "outputs": []
    },
    {
      "cell_type": "code",
      "source": [
        "print(f'Mean of midterm mark: {midterm_mean:.2f}')\n",
        "print(f'Standar deviation of midterm mark: {midterm_std:.2f}')\n",
        "print(f'Mean of final mark: {final_mean:.2f}')\n",
        "print(f'Standar deviation of final mark: {final_std:.2f}')"
      ],
      "metadata": {
        "colab": {
          "base_uri": "https://localhost:8080/"
        },
        "id": "4MZ2Ja6z_szo",
        "outputId": "3d1f580c-03c8-4165-a550-77f76550a474"
      },
      "execution_count": null,
      "outputs": [
        {
          "output_type": "stream",
          "name": "stdout",
          "text": [
            "Mean of midterm mark: 48.96\n",
            "Standar deviation of midterm mark: 9.75\n",
            "Mean of final mark: 72.73\n",
            "Standar deviation of final mark: 16.66\n"
          ]
        }
      ]
    },
    {
      "cell_type": "markdown",
      "source": [
        "## Implementation steps"
      ],
      "metadata": {
        "id": "b41ZpLHTED7Z"
      }
    },
    {
      "cell_type": "markdown",
      "source": [
        "### Standardization\n",
        "Standardization typically means rescales data to have a mean of 0 and a standard deviation of 1 (unit variance). This method is widely used for normalization in many machine learning algorithms as follows:\n",
        "\n",
        "$$ x^{'} = \\frac{x-\\bar{x}}{\\sigma} $$"
      ],
      "metadata": {
        "id": "A9K3fIKHEa34"
      }
    },
    {
      "cell_type": "code",
      "source": [
        "def standardize(data):\n",
        "  mean = data.mean()\n",
        "  std_dev = data.std()\n",
        "  standardized_data = (data - mean) / std_dev\n",
        "  return standardized_data"
      ],
      "metadata": {
        "id": "K-dz4EzJBDDX"
      },
      "execution_count": null,
      "outputs": []
    },
    {
      "cell_type": "markdown",
      "source": [
        "### Error (Cost function)\n",
        "Given a sequence of points, $y_{i}$, and a sequence of points predicted by the model, $\\hat{y}_{i}$, the **Mean Squared Error (MSE)** is:\n",
        "\n",
        "$$ Error = \\frac{1}{n}\\sum^{n}_{i=1}(y_{i} - \\hat{y}_{i})^{2}$$\n",
        "\n",
        "Our objective is to minimize this value. Inserting our linear regression model in for the $y_{i}$ predictions, and we are doing regression on only one variable, we get:\n",
        "\n",
        "$$ Error_{(m,b)} = \\frac{1}{N}\\sum^{N}_{i=1}(y_{i} - (mx_{i}+b))^{2}$$\n"
      ],
      "metadata": {
        "id": "2yLUY2iZL1ZY"
      }
    },
    {
      "cell_type": "code",
      "source": [
        "def cost_function(X, y, m, b):\n",
        "  N = len(X)\n",
        "  error = 0\n",
        "\n",
        "  for i in range(N):\n",
        "    error += (y[i] - (m*X[i] + b))**2\n",
        "\n",
        "  return error/N"
      ],
      "metadata": {
        "id": "lVHjzqsELFr7"
      },
      "execution_count": null,
      "outputs": []
    },
    {
      "cell_type": "markdown",
      "source": [
        "### Gradient Partial Descent\n",
        "Gradient descent is an optimization algorithm that is used to minimize a cost function. In the case of linear regression, the cost function is the mean squared error (MSE) function. The idea behind gradient descent is to iteratively update the parameters of the model (such as the slope and intercept in the case of linear regression) in the direction of the negative gradient of the cost function, with the goal of reaching the minimum of the function.\n",
        "\n",
        "$$ \\frac{\\partial}{\\partial{m}} = \\frac{2}{N}\\sum^{N}_{i=1}{-x_{i}}(y_{i} - (mx_{i}+b))$$\n",
        "\n",
        "\n",
        "$$ \\frac{\\partial}{\\partial{b}} = \\frac{2}{N}\\sum^{N}_{i=1}-(y_{i} - (mx_{i}+b))$$"
      ],
      "metadata": {
        "id": "TUYRt52MmxtH"
      }
    },
    {
      "cell_type": "code",
      "source": [
        "def gradient_descent(X, y, m, b):\n",
        "  dm = 0\n",
        "  db = 0\n",
        "  N = len(X)\n",
        "\n",
        "  for i in range(N):\n",
        "    dm += -X[i]*(y[i] - (m*X[i] + b))\n",
        "    db += -(y[i] - (m*X[i] + b))\n",
        "\n",
        "  return dm/(2*N), db/(2*N)"
      ],
      "metadata": {
        "id": "cUPF-8WkmjF1"
      },
      "execution_count": null,
      "outputs": []
    },
    {
      "cell_type": "markdown",
      "source": [
        "### Updating $m$ and $b$ using a learning rate $\\alpha$\n",
        "$$ m_{new} = m_{old} - {\\alpha}\\frac{\\partial{E}}{\\partial{m}}$$\n",
        "\n",
        "$$ b_{new} = b_{old} - {\\alpha}\\frac{\\partial{E}}{\\partial{m}}$$\n",
        "\n",
        "The learning rate $\\alpha$ variable controls how large of a step we take downhill during each iteration. "
      ],
      "metadata": {
        "id": "9uPxPrY0spaX"
      }
    },
    {
      "cell_type": "code",
      "source": [
        "def update_params(X, y, m, b, learning_rate):\n",
        "  dm, db = gradient_descent(X, y, m, b)\n",
        "  m -= learning_rate * dm\n",
        "  b -= learning_rate * db\n",
        "\n",
        "  return m, b\n"
      ],
      "metadata": {
        "id": "2bfaAECcvq_k"
      },
      "execution_count": null,
      "outputs": []
    },
    {
      "cell_type": "markdown",
      "source": [
        "### Implement train function"
      ],
      "metadata": {
        "id": "HXiZIPJ_y7pr"
      }
    },
    {
      "cell_type": "code",
      "source": [
        "def train(X, y, m, b, learning_rate, iterations):\n",
        "  cost_history = []\n",
        "\n",
        "  for i in range(iterations):\n",
        "    m, b = update_params(X, y, m, b, learning_rate)\n",
        "    cost = cost_function(X, y, m, b)\n",
        "    cost_history.append(cost)\n",
        "\n",
        "    if iterations <= 100:\n",
        "      if (i+1)%10 == 0:\n",
        "        print(f'Iteration: {i+1} ----> m: {m:.2f}, b: {b:.2f}, cost: {cost:.2f}')\n",
        "    \n",
        "    else:\n",
        "      if (i+1)%100 == 0:\n",
        "        print(f'Iteration: {i+1} ----> m: {m:.2f}, b: {b:.2f}, cost: {cost:.2f}')\n",
        "\n",
        "  return m, b, cost_history\n",
        "\n"
      ],
      "metadata": {
        "id": "9rWsj6Z_y3iC"
      },
      "execution_count": null,
      "outputs": []
    },
    {
      "cell_type": "markdown",
      "source": [
        "### Implement predict function"
      ],
      "metadata": {
        "id": "iKcC5fek4gB2"
      }
    },
    {
      "cell_type": "code",
      "source": [
        "def predict(X, m, b):\n",
        "  return X * m + b "
      ],
      "metadata": {
        "id": "XP0Jh8Rt4fXm"
      },
      "execution_count": null,
      "outputs": []
    },
    {
      "cell_type": "markdown",
      "source": [
        "## Performing Gradient Descent for Linear Regression"
      ],
      "metadata": {
        "id": "AalH7X-22XOH"
      }
    },
    {
      "cell_type": "markdown",
      "source": [
        "### Data preproccessing"
      ],
      "metadata": {
        "id": "c87x7f1E2r_L"
      }
    },
    {
      "cell_type": "code",
      "source": [
        "# Split data into X and y \n",
        "X = df.iloc[:,0]\n",
        "y = df.iloc[:,1]\n",
        "\n",
        "print(X, y)"
      ],
      "metadata": {
        "colab": {
          "base_uri": "https://localhost:8080/"
        },
        "id": "k24k6urC2try",
        "outputId": "9f5ba7d1-4e68-40b8-df73-88d5ed57202c"
      },
      "execution_count": null,
      "outputs": [
        {
          "output_type": "stream",
          "name": "stdout",
          "text": [
            "0     32.5\n",
            "1     53.4\n",
            "2     61.5\n",
            "3     47.5\n",
            "4     59.8\n",
            "      ... \n",
            "95    50.0\n",
            "96    49.2\n",
            "97    50.0\n",
            "98    48.1\n",
            "99    25.1\n",
            "Name: Midterm mark, Length: 100, dtype: float64 0     31.7\n",
            "1     68.8\n",
            "2     62.6\n",
            "3     71.5\n",
            "4     87.2\n",
            "      ... \n",
            "95    81.5\n",
            "96    72.1\n",
            "97    85.2\n",
            "98    66.2\n",
            "99    53.5\n",
            "Name: Final mark, Length: 100, dtype: float64\n"
          ]
        }
      ]
    },
    {
      "cell_type": "markdown",
      "source": [
        "### Fitting data "
      ],
      "metadata": {
        "id": "0Oqn2f1V493g"
      }
    },
    {
      "cell_type": "code",
      "source": [
        "# Initialize parameters\n",
        "m = -0.5\n",
        "b = 0\n",
        "alpha = 0.0001"
      ],
      "metadata": {
        "id": "RG1SNAeb66xZ"
      },
      "execution_count": null,
      "outputs": []
    },
    {
      "cell_type": "code",
      "source": [
        "# Plot datapoints and the initial regression line with (m = -0.5, b = 0)\n",
        "\n",
        "plt.figure(figsize = (10, 6))\n",
        "\n",
        "plt.scatter(X, y)\n",
        "plt.plot(X, predict(X=X, m=m, b=b), color = 'black', linewidth = 2)\n",
        "plt.xlabel('Midterm mark')\n",
        "plt.ylabel('Final mark')\n",
        "\n",
        "plt.show()"
      ],
      "metadata": {
        "colab": {
          "base_uri": "https://localhost:8080/",
          "height": 388
        },
        "id": "z75KzZn72PtI",
        "outputId": "25dd9f4e-4197-4762-ce39-83bcfe8f4152"
      },
      "execution_count": null,
      "outputs": [
        {
          "output_type": "display_data",
          "data": {
            "text/plain": [
              "<Figure size 720x432 with 1 Axes>"
            ],
            "image/png": "[encoded data removed]"
          },
          "metadata": {
            "needs_background": "light"
          }
        }
      ]
    },
    {
      "cell_type": "code",
      "source": [
        "# Update m and b 100 times\n",
        "m_100, b_100, cost_history_100 = train(X=X, y=y, m=m, b=b, learning_rate=alpha, iterations=100)"
      ],
      "metadata": {
        "colab": {
          "base_uri": "https://localhost:8080/"
        },
        "id": "h39bfvZv6gp6",
        "outputId": "43fed7dc-ed2e-41f8-acb7-5abbe39f6dfd"
      },
      "execution_count": null,
      "outputs": [
        {
          "output_type": "stream",
          "name": "stdout",
          "text": [
            "Iteration: 10 ----> m: 0.96, b: 0.03, cost: 794.48\n",
            "Iteration: 20 ----> m: 1.34, b: 0.04, cost: 160.38\n",
            "Iteration: 30 ----> m: 1.44, b: 0.04, cost: 116.09\n",
            "Iteration: 40 ----> m: 1.47, b: 0.04, cost: 113.00\n",
            "Iteration: 50 ----> m: 1.48, b: 0.04, cost: 112.78\n",
            "Iteration: 60 ----> m: 1.48, b: 0.04, cost: 112.76\n",
            "Iteration: 70 ----> m: 1.48, b: 0.04, cost: 112.76\n",
            "Iteration: 80 ----> m: 1.48, b: 0.04, cost: 112.76\n",
            "Iteration: 90 ----> m: 1.48, b: 0.04, cost: 112.76\n",
            "Iteration: 100 ----> m: 1.48, b: 0.04, cost: 112.76\n"
          ]
        }
      ]
    },
    {
      "cell_type": "code",
      "source": [
        "# Plot datapoints and the regression line after 100 iterations\n",
        "\n",
        "plt.figure(figsize = (10, 6))\n",
        "\n",
        "plt.scatter(X, y)\n",
        "plt.plot(X, predict(X=X, m=m_100, b=b_100), color = 'black', linewidth = 2)\n",
        "plt.xlabel('Midterm mark')\n",
        "plt.ylabel('Final mark')\n",
        "\n",
        "plt.show()"
      ],
      "metadata": {
        "colab": {
          "base_uri": "https://localhost:8080/",
          "height": 388
        },
        "id": "kIPPFfZdCFWy",
        "outputId": "483fd4cd-2271-450c-b572-3c3c7cfe4ff6"
      },
      "execution_count": null,
      "outputs": [
        {
          "output_type": "display_data",
          "data": {
            "text/plain": [
              "<Figure size 720x432 with 1 Axes>"
            ],
            "image/png": "[encoded data removed]"
          },
          "metadata": {
            "needs_background": "light"
          }
        }
      ]
    },
    {
      "cell_type": "code",
      "source": [
        "# Plot the cost function after 100 iterations\n",
        "\n",
        "plt.xlabel('# of iterations')\n",
        "plt.ylabel('Error')\n",
        "plt.plot(cost_history_100)\n",
        "plt.show()"
      ],
      "metadata": {
        "colab": {
          "base_uri": "https://localhost:8080/",
          "height": 279
        },
        "id": "aeYtRvhyC1ZR",
        "outputId": "978a6b45-0072-4a3e-b476-f3e24aa4652a"
      },
      "execution_count": null,
      "outputs": [
        {
          "output_type": "display_data",
          "data": {
            "text/plain": [
              "<Figure size 432x288 with 1 Axes>"
            ],
            "image/png": "[encoded data removed]"
          },
          "metadata": {
            "needs_background": "light"
          }
        }
      ]
    },
    {
      "cell_type": "code",
      "source": [
        "# Update m and b 2000 times\n",
        "m_2000, b_2000, cost_history_2000 = train(X=X, y=y, m=m, b=b, learning_rate=alpha, iterations=2000)"
      ],
      "metadata": {
        "colab": {
          "base_uri": "https://localhost:8080/"
        },
        "id": "NvAfxOKkE_3l",
        "outputId": "dcfe3f89-52b3-45e6-d02a-7815c10b0de0"
      },
      "execution_count": null,
      "outputs": [
        {
          "output_type": "stream",
          "name": "stdout",
          "text": [
            "Iteration: 100 ----> m: 1.48, b: 0.04, cost: 112.76\n",
            "Iteration: 200 ----> m: 1.48, b: 0.04, cost: 112.76\n",
            "Iteration: 300 ----> m: 1.48, b: 0.04, cost: 112.76\n",
            "Iteration: 400 ----> m: 1.48, b: 0.04, cost: 112.76\n",
            "Iteration: 500 ----> m: 1.48, b: 0.05, cost: 112.76\n",
            "Iteration: 600 ----> m: 1.48, b: 0.05, cost: 112.76\n",
            "Iteration: 700 ----> m: 1.48, b: 0.05, cost: 112.76\n",
            "Iteration: 800 ----> m: 1.48, b: 0.05, cost: 112.76\n",
            "Iteration: 900 ----> m: 1.48, b: 0.05, cost: 112.76\n",
            "Iteration: 1000 ----> m: 1.48, b: 0.05, cost: 112.76\n",
            "Iteration: 1100 ----> m: 1.48, b: 0.06, cost: 112.75\n",
            "Iteration: 1200 ----> m: 1.48, b: 0.06, cost: 112.75\n",
            "Iteration: 1300 ----> m: 1.48, b: 0.06, cost: 112.75\n",
            "Iteration: 1400 ----> m: 1.48, b: 0.06, cost: 112.75\n",
            "Iteration: 1500 ----> m: 1.48, b: 0.06, cost: 112.75\n",
            "Iteration: 1600 ----> m: 1.48, b: 0.06, cost: 112.75\n",
            "Iteration: 1700 ----> m: 1.48, b: 0.06, cost: 112.75\n",
            "Iteration: 1800 ----> m: 1.48, b: 0.07, cost: 112.75\n",
            "Iteration: 1900 ----> m: 1.48, b: 0.07, cost: 112.75\n",
            "Iteration: 2000 ----> m: 1.48, b: 0.07, cost: 112.75\n"
          ]
        }
      ]
    },
    {
      "cell_type": "code",
      "source": [
        "# Plot datapoints and the regression line after 100 iterations\n",
        "\n",
        "plt.figure(figsize = (10, 6))\n",
        "\n",
        "plt.scatter(X, y)\n",
        "plt.plot(X, predict(X=X, m=m_2000, b=b_2000), color = 'black', linewidth = 2)\n",
        "plt.xlabel('Midterm mark')\n",
        "plt.ylabel('Final mark')\n",
        "\n",
        "plt.show()"
      ],
      "metadata": {
        "colab": {
          "base_uri": "https://localhost:8080/",
          "height": 388
        },
        "id": "FlRmO9ZdFX0l",
        "outputId": "d01771bf-48fb-4052-94a8-705f8f6869c4"
      },
      "execution_count": null,
      "outputs": [
        {
          "output_type": "display_data",
          "data": {
            "text/plain": [
              "<Figure size 720x432 with 1 Axes>"
            ],
            "image/png": "[encoded data removed]"
          },
          "metadata": {
            "needs_background": "light"
          }
        }
      ]
    },
    {
      "cell_type": "code",
      "source": [
        "# Plot the cost function after 100 iterations\n",
        "\n",
        "plt.xlabel('# of iterations')\n",
        "plt.ylabel('Error')\n",
        "plt.plot(cost_history_2000)\n",
        "plt.show()"
      ],
      "metadata": {
        "colab": {
          "base_uri": "https://localhost:8080/",
          "height": 279
        },
        "id": "qoPGb186F0Nj",
        "outputId": "c3101413-36de-4fc8-8cbe-779795f02bce"
      },
      "execution_count": null,
      "outputs": [
        {
          "output_type": "display_data",
          "data": {
            "text/plain": [
              "<Figure size 432x288 with 1 Axes>"
            ],
            "image/png": "[encoded data removed]"
          },
          "metadata": {
            "needs_background": "light"
          }
        }
      ]
    },
    {
      "cell_type": "markdown",
      "source": [
        "### Verifying results using Numpy Polyfit function"
      ],
      "metadata": {
        "id": "GahzsWzO-RzM"
      }
    },
    {
      "cell_type": "code",
      "source": [
        "# Find line of best fit\n",
        "m_fit, b_fit = np.polyfit(X, y, 1)\n",
        "\n",
        "print(f'Slope: {m_fit:.2f}')\n",
        "print(f'Intercept: {b_fit:.2f}')"
      ],
      "metadata": {
        "colab": {
          "base_uri": "https://localhost:8080/"
        },
        "id": "3rQ-RRuq-XP5",
        "outputId": "0f042490-8a2f-4326-eb22-37a7124a14ef"
      },
      "execution_count": null,
      "outputs": [
        {
          "output_type": "stream",
          "name": "stdout",
          "text": [
            "Slope: 1.32\n",
            "Intercept: 8.01\n"
          ]
        }
      ]
    },
    {
      "cell_type": "code",
      "source": [
        "plt.figure(figsize = (10, 6))\n",
        "\n",
        "plt.scatter(X, y)\n",
        "plt.plot(X, predict(X=X, m=m_fit, b=b_fit), color = 'black', linewidth = 2)\n",
        "plt.xlabel('Midterm mark')\n",
        "plt.ylabel('Final mark')\n",
        "\n",
        "plt.show()"
      ],
      "metadata": {
        "colab": {
          "base_uri": "https://localhost:8080/",
          "height": 388
        },
        "id": "9lUpGlA2_rH6",
        "outputId": "9bf59b35-f3a9-407d-9670-a06b0d49ce20"
      },
      "execution_count": null,
      "outputs": [
        {
          "output_type": "display_data",
          "data": {
            "text/plain": [
              "<Figure size 720x432 with 1 Axes>"
            ],
            "image/png": "[encoded data removed]"
          },
          "metadata": {
            "needs_background": "light"
          }
        }
      ]
    },
    {
      "cell_type": "markdown",
      "source": [
        "### Verifying using Linear Regression model from Scikit-Learn"
      ],
      "metadata": {
        "id": "aGfTKTsPGkj9"
      }
    },
    {
      "cell_type": "code",
      "source": [
        "# Initialize model\n",
        "LR_model = LinearRegression()\n",
        "\n",
        "# Fit the data into model\n",
        "LR_model.fit(np.array(X).reshape(-1,1), np.array(y).reshape(-1,1))\n"
      ],
      "metadata": {
        "colab": {
          "base_uri": "https://localhost:8080/"
        },
        "id": "ANyjF2j4F4_l",
        "outputId": "0a8c9c28-37f9-4615-ad04-7c455f0a756d"
      },
      "execution_count": null,
      "outputs": [
        {
          "output_type": "execute_result",
          "data": {
            "text/plain": [
              "LinearRegression()"
            ]
          },
          "metadata": {},
          "execution_count": 76
        }
      ]
    },
    {
      "cell_type": "code",
      "source": [
        "intercept = LR_model.intercept_.item()\n",
        "slope = LR_model.coef_.item()\n",
        "error = mean_squared_error(y, predict(X=X, m=slope, b=intercept))\n",
        "print(f'Slope: {slope:0.2f}')\n",
        "print(f'Intercept: {intercept:0.2f}')\n",
        "print(f'Error: {error:.2f}')"
      ],
      "metadata": {
        "colab": {
          "base_uri": "https://localhost:8080/"
        },
        "id": "t7t0Xx5GH6DC",
        "outputId": "58c1829c-0cd9-4781-c950-58fb8fd13187"
      },
      "execution_count": null,
      "outputs": [
        {
          "output_type": "stream",
          "name": "stdout",
          "text": [
            "Slope: 1.32\n",
            "Intercept: 8.01\n",
            "Error: 110.36\n"
          ]
        }
      ]
    },
    {
      "cell_type": "code",
      "source": [
        "plt.figure(figsize = (10, 6))\n",
        "\n",
        "plt.scatter(X, y)\n",
        "plt.plot(X, predict(X=X, m=slope, b=intercept), color = 'black', linewidth = 2)\n",
        "plt.xlabel('Midterm mark')\n",
        "plt.ylabel('Final mark')\n",
        "\n",
        "plt.show()"
      ],
      "metadata": {
        "colab": {
          "base_uri": "https://localhost:8080/",
          "height": 388
        },
        "id": "H5faSCsBIVvT",
        "outputId": "4666eb9c-b3f3-48a8-fd26-127224f06045"
      },
      "execution_count": null,
      "outputs": [
        {
          "output_type": "display_data",
          "data": {
            "text/plain": [
              "<Figure size 720x432 with 1 Axes>"
            ],
            "image/png": "[encoded data removed]"
          },
          "metadata": {
            "needs_background": "light"
          }
        }
      ]
    },
    {
      "cell_type": "markdown",
      "source": [
        "## Linear Regression after standardization\n",
        "If a feature has a variance that is orders of magnitude larger than others, it might dominate the objective function and make the estimator unable to learn from other features correctly as expected. That is the reason why standardization of datasets is a common requirement for many machine learning estimators."
      ],
      "metadata": {
        "id": "Ots7JWDabit5"
      }
    },
    {
      "cell_type": "markdown",
      "source": [
        "### Scaling feature"
      ],
      "metadata": {
        "id": "td7P5sdWcTPs"
      }
    },
    {
      "cell_type": "code",
      "source": [
        "X_scaled = standardize(data=X)\n",
        "X_scaled"
      ],
      "metadata": {
        "colab": {
          "base_uri": "https://localhost:8080/"
        },
        "id": "q7VPL_WdMhLq",
        "outputId": "09e0c060-5ac8-4c55-f30d-abb3aaed6312"
      },
      "execution_count": null,
      "outputs": [
        {
          "output_type": "execute_result",
          "data": {
            "text/plain": [
              "0    -1.688710\n",
              "1     0.455651\n",
              "2     1.286719\n",
              "3    -0.149695\n",
              "4     1.112297\n",
              "        ...   \n",
              "95    0.106808\n",
              "96    0.024727\n",
              "97    0.106808\n",
              "98   -0.088134\n",
              "99   -2.447957\n",
              "Name: Midterm mark, Length: 100, dtype: float64"
            ]
          },
          "metadata": {},
          "execution_count": 79
        }
      ]
    },
    {
      "cell_type": "code",
      "source": [
        "print(f'Mean of midterm mark after standadization: {X_scaled.mean():.2f}')\n",
        "print(f'Standar deviation of midterm mark after standadization: {X_scaled.std():.2f}')"
      ],
      "metadata": {
        "colab": {
          "base_uri": "https://localhost:8080/"
        },
        "id": "BV1uPzgre_WM",
        "outputId": "c5e3fd76-2760-4325-d5a3-daf904e6cadf"
      },
      "execution_count": null,
      "outputs": [
        {
          "output_type": "stream",
          "name": "stdout",
          "text": [
            "Mean of midterm mark after standadization: -0.00\n",
            "Standar deviation of midterm mark after standadization: 1.00\n"
          ]
        }
      ]
    },
    {
      "cell_type": "code",
      "source": [
        "y_scaled = standardize(data=y)\n",
        "y_scaled"
      ],
      "metadata": {
        "colab": {
          "base_uri": "https://localhost:8080/"
        },
        "id": "RG-mQonsjbQ_",
        "outputId": "f5ac185b-5795-45cc-96ee-e972dc6eec56"
      },
      "execution_count": null,
      "outputs": [
        {
          "output_type": "execute_result",
          "data": {
            "text/plain": [
              "0    -2.463344\n",
              "1    -0.236219\n",
              "2    -0.608407\n",
              "3    -0.074137\n",
              "4     0.868339\n",
              "        ...   \n",
              "95    0.526166\n",
              "96   -0.038119\n",
              "97    0.748278\n",
              "98   -0.392298\n",
              "99   -1.154683\n",
              "Name: Final mark, Length: 100, dtype: float64"
            ]
          },
          "metadata": {},
          "execution_count": 81
        }
      ]
    },
    {
      "cell_type": "code",
      "source": [
        "print(f'Mean of final mark after standadization: {y_scaled.mean():.2f}')\n",
        "print(f'Standar deviation of final mark after standadization: {y_scaled.std():.2f}')"
      ],
      "metadata": {
        "colab": {
          "base_uri": "https://localhost:8080/"
        },
        "id": "VwJgCl5qjhtL",
        "outputId": "c998c6f7-8894-4781-e738-389383673443"
      },
      "execution_count": null,
      "outputs": [
        {
          "output_type": "stream",
          "name": "stdout",
          "text": [
            "Mean of final mark after standadization: 0.00\n",
            "Standar deviation of final mark after standadization: 1.00\n"
          ]
        }
      ]
    },
    {
      "cell_type": "markdown",
      "source": [
        "### Fitting data"
      ],
      "metadata": {
        "id": "w4e9o5P4h1Fb"
      }
    },
    {
      "cell_type": "code",
      "source": [
        "# Plot datapoints and the initial regression line with (m = -0.5, b = 0)\n",
        "\n",
        "plt.figure(figsize = (10, 6))\n",
        "\n",
        "plt.scatter(X_scaled, y_scaled)\n",
        "plt.plot(X_scaled, predict(X=X_scaled, m=m, b=b), color = 'black', linewidth = 2)\n",
        "plt.xlabel('Midterm mark')\n",
        "plt.ylabel('Final mark')\n",
        "\n",
        "plt.show()"
      ],
      "metadata": {
        "colab": {
          "base_uri": "https://localhost:8080/",
          "height": 391
        },
        "id": "vo9Sw-0Hh0lE",
        "outputId": "9843c09e-d2be-40bd-92fd-0941ca5f92dd"
      },
      "execution_count": null,
      "outputs": [
        {
          "output_type": "display_data",
          "data": {
            "text/plain": [
              "<Figure size 720x432 with 1 Axes>"
            ],
            "image/png": "[encoded data removed]"
          },
          "metadata": {
            "needs_background": "light"
          }
        }
      ]
    },
    {
      "cell_type": "code",
      "source": [
        "# Update m and b 100 times\n",
        "m_scaled_100, b_scaled_100, cost_history_scaled_100 = train(X=X_scaled, y=y_scaled, m=m, b=b, learning_rate=alpha, iterations=100)"
      ],
      "metadata": {
        "colab": {
          "base_uri": "https://localhost:8080/"
        },
        "id": "dCEb2ka6gOvH",
        "outputId": "262296c8-4683-46ee-a32d-4f24316b73bd"
      },
      "execution_count": null,
      "outputs": [
        {
          "output_type": "stream",
          "name": "stdout",
          "text": [
            "Iteration: 10 ----> m: -0.50, b: -0.00, cost: 2.00\n",
            "Iteration: 20 ----> m: -0.50, b: -0.00, cost: 2.00\n",
            "Iteration: 30 ----> m: -0.50, b: -0.00, cost: 2.00\n",
            "Iteration: 40 ----> m: -0.50, b: -0.00, cost: 2.00\n",
            "Iteration: 50 ----> m: -0.50, b: -0.00, cost: 2.00\n",
            "Iteration: 60 ----> m: -0.50, b: -0.00, cost: 1.99\n",
            "Iteration: 70 ----> m: -0.50, b: -0.00, cost: 1.99\n",
            "Iteration: 80 ----> m: -0.49, b: -0.00, cost: 1.99\n",
            "Iteration: 90 ----> m: -0.49, b: -0.00, cost: 1.99\n",
            "Iteration: 100 ----> m: -0.49, b: -0.00, cost: 1.99\n"
          ]
        }
      ]
    },
    {
      "cell_type": "code",
      "source": [
        "# Plot datapoints and the regression line after 100 iterations\n",
        "\n",
        "plt.figure(figsize = (10, 6))\n",
        "\n",
        "plt.scatter(X_scaled, y_scaled)\n",
        "plt.plot(X_scaled, predict(X=X_scaled, m=m_scaled_100, b=b_scaled_100), color = 'black', linewidth = 2)\n",
        "plt.xlabel('Midterm mark')\n",
        "plt.ylabel('Final mark')\n",
        "\n",
        "plt.show()"
      ],
      "metadata": {
        "colab": {
          "base_uri": "https://localhost:8080/",
          "height": 391
        },
        "id": "7NH7Ezs1iUuy",
        "outputId": "75f78d07-9161-465c-ef84-522b3134d36b"
      },
      "execution_count": null,
      "outputs": [
        {
          "output_type": "display_data",
          "data": {
            "text/plain": [
              "<Figure size 720x432 with 1 Axes>"
            ],
            "image/png": "[encoded data removed]"
          },
          "metadata": {
            "needs_background": "light"
          }
        }
      ]
    },
    {
      "cell_type": "code",
      "source": [
        "# Plot the cost function after 100 iterations\n",
        "\n",
        "plt.xlabel('# of iterations')\n",
        "plt.ylabel('Error')\n",
        "plt.plot(cost_history_scaled_100)\n",
        "plt.show()"
      ],
      "metadata": {
        "colab": {
          "base_uri": "https://localhost:8080/",
          "height": 279
        },
        "id": "1RTACOpiialN",
        "outputId": "98721b80-cc4f-4931-fb18-21390a447bca"
      },
      "execution_count": null,
      "outputs": [
        {
          "output_type": "display_data",
          "data": {
            "text/plain": [
              "<Figure size 432x288 with 1 Axes>"
            ],
            "image/png": "[encoded data removed]"
          },
          "metadata": {
            "needs_background": "light"
          }
        }
      ]
    },
    {
      "cell_type": "code",
      "source": [
        "# Update m and b 2000 times\n",
        "m_scaled_2000, b_scaled_2000, cost_history_scaled_2000 = train(X=X_scaled, y=y_scaled, m=m, b=b, learning_rate=alpha, iterations=2000)"
      ],
      "metadata": {
        "colab": {
          "base_uri": "https://localhost:8080/"
        },
        "id": "WD8r0lnNkJgj",
        "outputId": "d03534a4-6217-433e-87a3-ae99f94c2f3b"
      },
      "execution_count": null,
      "outputs": [
        {
          "output_type": "stream",
          "name": "stdout",
          "text": [
            "Iteration: 100 ----> m: -0.49, b: -0.00, cost: 1.99\n",
            "Iteration: 200 ----> m: -0.49, b: -0.00, cost: 1.97\n",
            "Iteration: 300 ----> m: -0.48, b: -0.00, cost: 1.96\n",
            "Iteration: 400 ----> m: -0.48, b: -0.00, cost: 1.94\n",
            "Iteration: 500 ----> m: -0.47, b: -0.00, cost: 1.93\n",
            "Iteration: 600 ----> m: -0.46, b: -0.00, cost: 1.91\n",
            "Iteration: 700 ----> m: -0.46, b: -0.00, cost: 1.90\n",
            "Iteration: 800 ----> m: -0.45, b: -0.00, cost: 1.88\n",
            "Iteration: 900 ----> m: -0.44, b: -0.00, cost: 1.87\n",
            "Iteration: 1000 ----> m: -0.44, b: -0.00, cost: 1.85\n",
            "Iteration: 1100 ----> m: -0.43, b: -0.00, cost: 1.84\n",
            "Iteration: 1200 ----> m: -0.43, b: -0.00, cost: 1.82\n",
            "Iteration: 1300 ----> m: -0.42, b: -0.00, cost: 1.81\n",
            "Iteration: 1400 ----> m: -0.41, b: -0.00, cost: 1.80\n",
            "Iteration: 1500 ----> m: -0.41, b: -0.00, cost: 1.78\n",
            "Iteration: 1600 ----> m: -0.40, b: -0.00, cost: 1.77\n",
            "Iteration: 1700 ----> m: -0.40, b: -0.00, cost: 1.75\n",
            "Iteration: 1800 ----> m: -0.39, b: -0.00, cost: 1.74\n",
            "Iteration: 1900 ----> m: -0.39, b: -0.00, cost: 1.73\n",
            "Iteration: 2000 ----> m: -0.38, b: -0.00, cost: 1.71\n"
          ]
        }
      ]
    },
    {
      "cell_type": "code",
      "source": [
        "# Plot datapoints and the regression line after 2000 iterations\n",
        "\n",
        "plt.figure(figsize = (10, 6))\n",
        "\n",
        "plt.scatter(X_scaled, y_scaled)\n",
        "plt.plot(X_scaled, predict(X=X_scaled, m=m_scaled_2000, b=b_scaled_2000), color = 'black', linewidth = 2)\n",
        "plt.xlabel('Midterm mark')\n",
        "plt.ylabel('Final mark')\n",
        "\n",
        "plt.show()"
      ],
      "metadata": {
        "colab": {
          "base_uri": "https://localhost:8080/",
          "height": 391
        },
        "id": "a4JamyrlkeTz",
        "outputId": "b965d285-0639-40d2-99c0-1818bacae438"
      },
      "execution_count": null,
      "outputs": [
        {
          "output_type": "display_data",
          "data": {
            "text/plain": [
              "<Figure size 720x432 with 1 Axes>"
            ],
            "image/png": "[encoded data removed]"
          },
          "metadata": {
            "needs_background": "light"
          }
        }
      ]
    },
    {
      "cell_type": "code",
      "source": [
        "# Plot the cost function after 100 iterations\n",
        "\n",
        "plt.xlabel('# of iterations')\n",
        "plt.ylabel('Error')\n",
        "plt.plot(cost_history_scaled_2000)\n",
        "plt.show()"
      ],
      "metadata": {
        "colab": {
          "base_uri": "https://localhost:8080/",
          "height": 279
        },
        "id": "nGkclgPRk0ud",
        "outputId": "f2851927-a2d4-4e97-8584-127cbb9ec315"
      },
      "execution_count": null,
      "outputs": [
        {
          "output_type": "display_data",
          "data": {
            "text/plain": [
              "<Figure size 432x288 with 1 Axes>"
            ],
            "image/png": "[encoded data removed]"
          },
          "metadata": {
            "needs_background": "light"
          }
        }
      ]
    },
    {
      "cell_type": "markdown",
      "source": [
        "### Verifying results using Numpy Polyfit function"
      ],
      "metadata": {
        "id": "9kMx3B3uAP0F"
      }
    },
    {
      "cell_type": "code",
      "source": [
        "# Find line of best fit\n",
        "m_fit_scaled, b_fit_scaled = np.polyfit(X_scaled, y_scaled, 1)\n",
        "\n",
        "print(f'Slope: {m_fit_scaled:.2f}')\n",
        "print(f'Intercept: {b_fit_scaled:.2f}')"
      ],
      "metadata": {
        "colab": {
          "base_uri": "https://localhost:8080/"
        },
        "id": "MArJ3fiXAS9Q",
        "outputId": "07d376e4-cb0d-45f8-c42d-1f54c50cc44d"
      },
      "execution_count": null,
      "outputs": [
        {
          "output_type": "stream",
          "name": "stdout",
          "text": [
            "Slope: 0.77\n",
            "Intercept: 0.00\n"
          ]
        }
      ]
    },
    {
      "cell_type": "code",
      "source": [
        "plt.figure(figsize = (10, 6))\n",
        "\n",
        "plt.scatter(X_scaled, y_scaled)\n",
        "plt.plot(X_scaled, predict(X=X_scaled, m=m_fit_scaled, b=b_fit_scaled), color = 'black', linewidth = 2)\n",
        "plt.xlabel('Midterm mark')\n",
        "plt.ylabel('Final mark')\n",
        "\n",
        "plt.show()"
      ],
      "metadata": {
        "colab": {
          "base_uri": "https://localhost:8080/",
          "height": 391
        },
        "id": "8FU3yMc5AdhK",
        "outputId": "faacbbd6-0ad2-4443-e357-a04f9047559e"
      },
      "execution_count": null,
      "outputs": [
        {
          "output_type": "display_data",
          "data": {
            "text/plain": [
              "<Figure size 720x432 with 1 Axes>"
            ],
            "image/png": "[encoded data removed]"
          },
          "metadata": {
            "needs_background": "light"
          }
        }
      ]
    },
    {
      "cell_type": "markdown",
      "source": [
        "### Verifying using Linear Regression model from Scikit-Learn"
      ],
      "metadata": {
        "id": "il1pKbEkBPJ3"
      }
    },
    {
      "cell_type": "code",
      "source": [
        "# Initialize model\n",
        "LR_model_scaled = LinearRegression()\n",
        "\n",
        "# Fit the data into model\n",
        "LR_model_scaled.fit(np.array(X_scaled).reshape(-1,1), np.array(y_scaled).reshape(-1,1))\n"
      ],
      "metadata": {
        "colab": {
          "base_uri": "https://localhost:8080/"
        },
        "id": "DyOqBPEblMWY",
        "outputId": "6905b255-6bb6-4ec8-8c50-d071fdac261a"
      },
      "execution_count": null,
      "outputs": [
        {
          "output_type": "execute_result",
          "data": {
            "text/plain": [
              "LinearRegression()"
            ]
          },
          "metadata": {},
          "execution_count": 92
        }
      ]
    },
    {
      "cell_type": "code",
      "source": [
        "intercept_scaled = LR_model_scaled.intercept_.item()\n",
        "slope_scaled = LR_model_scaled.coef_.item()\n",
        "error_scaled = mean_squared_error(y, predict(X=X_scaled, m=slope_scaled, b=intercept_scaled))\n",
        "print(f'Slope: {slope_scaled:0.2f}')\n",
        "print(f'Intercept: {intercept_scaled:0.2f}')\n",
        "print(f'Error: {error_scaled:.2f}')"
      ],
      "metadata": {
        "colab": {
          "base_uri": "https://localhost:8080/"
        },
        "id": "RIQVJMu9mwt5",
        "outputId": "ac134ef8-97e9-484c-ab64-f888c22c4f8b"
      },
      "execution_count": null,
      "outputs": [
        {
          "output_type": "stream",
          "name": "stdout",
          "text": [
            "Slope: 0.77\n",
            "Intercept: 0.00\n",
            "Error: 5545.96\n"
          ]
        }
      ]
    },
    {
      "cell_type": "code",
      "source": [
        "plt.figure(figsize = (10, 6))\n",
        "\n",
        "plt.scatter(X_scaled, y_scaled)\n",
        "plt.plot(X_scaled, predict(X=X_scaled, m=slope_scaled, b=intercept_scaled), color = 'black', linewidth = 2)\n",
        "plt.xlabel('Midterm mark')\n",
        "plt.ylabel('Final mark')\n",
        "\n",
        "plt.show()"
      ],
      "metadata": {
        "colab": {
          "base_uri": "https://localhost:8080/",
          "height": 391
        },
        "id": "Elaw0RDomxne",
        "outputId": "0064bc3c-7a7b-441a-f1e6-3cdc8fa6d340"
      },
      "execution_count": null,
      "outputs": [
        {
          "output_type": "display_data",
          "data": {
            "text/plain": [
              "<Figure size 720x432 with 1 Axes>"
            ],
            "image/png": "[encoded data removed]"
          },
          "metadata": {
            "needs_background": "light"
          }
        }
      ]
    },
    {
      "cell_type": "code",
      "source": [],
      "metadata": {
        "id": "zFtEZklIptVt"
      },
      "execution_count": null,
      "outputs": []
    }
  ]
}