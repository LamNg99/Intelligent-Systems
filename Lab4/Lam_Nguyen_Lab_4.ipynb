{
  "cells": [
    {
      "cell_type": "markdown",
      "metadata": {
        "id": "WWQbz-6KemLQ"
      },
      "source": [
        "# Lab  #4\n",
        "\n",
        "First and Last Name: Lam Nguyen\n",
        "\n",
        "Student ID: 500838417\n",
        "\n",
        "Video URL: -----------------------"
      ]
    },
    {
      "cell_type": "markdown",
      "metadata": {
        "id": "KQM7xVC1gLrO"
      },
      "source": [
        "#Neural Networks"
      ]
    },
    {
      "cell_type": "code",
      "execution_count": null,
      "metadata": {
        "id": "2LvCfa8PenPU"
      },
      "outputs": [],
      "source": [
        "# Regular EDA (exploratory data analysis) and plotting libraries\n",
        "import numpy as np\n",
        "import pandas as pd\n",
        "import matplotlib.pyplot as plt\n",
        "import seaborn as sns\n",
        "\n",
        "%matplotlib inline\n",
        "\n",
        "import tensorflow as tf\n",
        "from tensorflow import keras\n",
        "import sklearn.metrics as metrics\n",
        "\n",
        "#keras\n",
        "from keras.models import Sequential\n",
        "from keras.layers import Input, Dense\n",
        "from keras import initializers"
      ]
    },
    {
      "cell_type": "code",
      "source": [
        "# Reproducible Results\n",
        "import random as rn\n",
        "import os\n",
        "\n",
        "os.environ['PYTHONHASHSEED'] = '42'\n",
        "\n",
        "# Setting the seed for numpy-generated random numbers\n",
        "np.random.seed(42)\n",
        "\n",
        "# Setting the seed for Python random number\n",
        "rn.seed(42)\n",
        "\n",
        "# Setting the seed for TensorFlow random number\n",
        "tf.random.set_seed(42)\n",
        "\n",
        "# Force TensorFlow to use a single thread\n",
        "session_conf = tf.compat.v1.ConfigProto(intra_op_parallelism_threads=1, inter_op_parallelism_threads=1)\n",
        "sess = tf.compat.v1.Session(graph=tf.compat.v1.get_default_graph(), config=session_conf)\n",
        "tf.compat.v1.keras.backend.set_session(sess)\n"
      ],
      "metadata": {
        "id": "Jc2BBFEOHPBH"
      },
      "execution_count": null,
      "outputs": []
    },
    {
      "cell_type": "markdown",
      "metadata": {
        "id": "HSuRdK76hB2J"
      },
      "source": [
        "## Implementation Steps"
      ]
    },
    {
      "cell_type": "markdown",
      "metadata": {
        "id": "NXnGLlfMhl0y"
      },
      "source": [
        "### Generate dataset"
      ]
    },
    {
      "cell_type": "code",
      "execution_count": null,
      "metadata": {
        "id": "660hLlPIg6E3"
      },
      "outputs": [],
      "source": [
        "def generate_X(size):\n",
        "  np.random.seed(42)\n",
        "  X = np.random.uniform(-1, 1, size=size)\n",
        "  return X\n",
        "\n",
        "def generate_y(X):\n",
        "  y = 0.2*np.power(X, 4) + 2*np.power(X, 3) + 0.1*np.power(X, 2) + 10\n",
        "  return y \n",
        "\n",
        "def get_dataset(shuffle=False, size=10000, random_state=0):\n",
        "  X = generate_X(size=size)\n",
        "  y = generate_y(X=X)\n",
        "  data = np.c_[X, y]\n",
        "\n",
        "  if shuffle:\n",
        "    np.random.seed(random_state)\n",
        "    np.random.shuffle(data)\n",
        "  \n",
        "  return data"
      ]
    },
    {
      "cell_type": "markdown",
      "metadata": {
        "id": "rneaCqWxu15a"
      },
      "source": [
        "### Split data function"
      ]
    },
    {
      "cell_type": "code",
      "execution_count": null,
      "metadata": {
        "id": "0BsHq9ZWu55v"
      },
      "outputs": [],
      "source": [
        "def split_data(data, train_ratio=0.7, val_ratio=0.15, test_ratio=0.15):\n",
        "  assert train_ratio + val_ratio + test_ratio == 1.0, \"train_ratio + val_ratio + test_ratio should equal 1.0\"\n",
        "  assert data.shape[0] >= 2, \"data should have at least two rows\"\n",
        "\n",
        "  train_size = int(train_ratio * data.shape[0])\n",
        "  val_size = int(val_ratio * data.shape[0])\n",
        "    \n",
        "  train_data = data[:train_size]\n",
        "  val_data = data[train_size:train_size+val_size]\n",
        "  test_data = data[train_size+val_size:]\n",
        "    \n",
        "  return train_data, val_data, test_data"
      ]
    },
    {
      "cell_type": "markdown",
      "metadata": {
        "id": "lN3s_97Z0fxX"
      },
      "source": [
        "### Scale data function"
      ]
    },
    {
      "cell_type": "code",
      "execution_count": null,
      "metadata": {
        "id": "deI_Ip6aw_7f"
      },
      "outputs": [],
      "source": [
        "def scale_data(data):\n",
        "  min_vals = np.min(data, axis=0)\n",
        "  max_vals = np.max(data, axis=0)\n",
        "  scaled_data = (data - min_vals) / (max_vals - min_vals)\n",
        "    \n",
        "  return scaled_data"
      ]
    },
    {
      "cell_type": "markdown",
      "metadata": {
        "id": "aYKBUzEg5qsu"
      },
      "source": [
        "### Error calculation functions"
      ]
    },
    {
      "cell_type": "code",
      "execution_count": null,
      "metadata": {
        "id": "0J7odxfN5t1S"
      },
      "outputs": [],
      "source": [
        "def mae(actual, predicted):\n",
        "  mae = np.mean(np.abs(actual - predicted)) \n",
        "  return mae\n",
        "\n",
        "def mse(actual, predicted):\n",
        "  mse = np.mean((actual - predicted) ** 2)\n",
        "  return mse\n",
        "\n",
        "def rmse(actual, predicted):\n",
        "  mse = np.mean((actual - predicted) ** 2)\n",
        "  rmse = np.sqrt(mse)\n",
        "  return rmse\n",
        "\n",
        "def r2(actual, predicted):\n",
        "  ss_tot = np.sum((actual - np.mean(actual)) ** 2)\n",
        "  ss_res = np.sum((actual - predicted) ** 2)\n",
        "  r2 = 1 - (ss_res / ss_tot)\n",
        "  return r2\n",
        "\n",
        "def get_errors(actual, predicted):\n",
        "  print(f'MAE: {mae(actual, predicted)}')\n",
        "  print(f'MSE: {mse(actual, predicted)}')\n",
        "  print(f'RMSE: {rmse(actual, predicted)}')\n",
        "  print(f'R2: {r2(actual, predicted)}')"
      ]
    },
    {
      "cell_type": "markdown",
      "metadata": {
        "id": "ipScQRBNgZ1l"
      },
      "source": [
        "###Models creation function"
      ]
    },
    {
      "cell_type": "code",
      "source": [
        "def create_model(structure=1, activation='relu'):\n",
        "  available_structure = [1, 2]\n",
        "  available_activation = ['relu', 'tanh']\n",
        "\n",
        "  assert structure in available_structure, 'structure must be either 1 or 2'\n",
        "  assert activation in available_activation, 'activation must be either \\'relu\\' or \\'tanh\\''\n",
        "\n",
        "  model = Sequential()\n",
        "  model.add(Input(shape=(1,)))\n",
        "\n",
        "  if structure == 1: \n",
        "    model.add(Dense(units=12, activation=activation, \n",
        "                    kernel_initializer=initializers.RandomNormal(mean=0. , stddev=1., seed=42),\n",
        "                    bias_initializer=initializers.Zeros()))\n",
        "    model.add(Dense(units=8, activation=activation))\n",
        "    model.add(Dense(units=4, activation=activation))\n",
        "    model.add(Dense(units=1, activation=activation))\n",
        "\n",
        "  else:\n",
        "    model.add(Dense(units=24, activation=activation, \n",
        "                    kernel_initializer=initializers.RandomNormal(mean=0. , stddev=1., seed=42),\n",
        "                    bias_initializer=initializers.Zeros()))\n",
        "    model.add(Dense(units=1, activation=activation))\n",
        "\n",
        "  model.summary()\n",
        "  model.compile(loss='mean_squared_error', optimizer='adam', metrics=['accuracy'])\n",
        "\n",
        "  return model"
      ],
      "metadata": {
        "id": "fu3I9mshhVio"
      },
      "execution_count": null,
      "outputs": []
    },
    {
      "cell_type": "markdown",
      "source": [
        "###Plotting function"
      ],
      "metadata": {
        "id": "E3ukAVhlncEM"
      }
    },
    {
      "cell_type": "code",
      "source": [
        "def create_plot(X_test, y_test, y_pred, case):\n",
        "\n",
        "  assert isinstance(case, int), 'case must be an integer'\n",
        "\n",
        "  plt.figure(figsize=(12,4))\n",
        "\n",
        "  plt.subplot(1, 2, 1)\n",
        "  plt.scatter(X_test, y_test)\n",
        "  plt.title('Actual test data')\n",
        "  plt.grid()\n",
        "\n",
        "  plt.subplot(1, 2, 2)\n",
        "  plt.scatter(X_test, y_pred)\n",
        "  plt.title('Predicted data')\n",
        "  plt.grid()\n",
        "\n",
        "  plt.tight_layout(h_pad=1.0)\n",
        "  plt.suptitle(f'Plots for case {case}', fontsize=16)\n",
        "  plt.subplots_adjust(top=0.8)\n",
        "  plt.show();"
      ],
      "metadata": {
        "id": "yCJMFTJOnj5d"
      },
      "execution_count": null,
      "outputs": []
    },
    {
      "cell_type": "markdown",
      "metadata": {
        "id": "ORYZkxw9_tyQ"
      },
      "source": [
        "## Data preprocessing "
      ]
    },
    {
      "cell_type": "code",
      "execution_count": null,
      "metadata": {
        "id": "yPCkAAuvvf7t"
      },
      "outputs": [],
      "source": [
        "# Shuffled data\n",
        "shuffled_data = get_dataset(shuffle=True, size=30000, random_state=42)\n",
        "\n",
        "# Unshuffled data\n",
        "unshuffled_data = get_dataset(shuffle=False, size=30000, random_state=42)"
      ]
    },
    {
      "cell_type": "code",
      "execution_count": null,
      "metadata": {
        "id": "lHIRr8oj_sN_"
      },
      "outputs": [],
      "source": [
        "# Shuffled and unscaled data \n",
        "train_data_1, val_data_1, test_data_1 = split_data(data=shuffled_data, train_ratio=0.3, val_ratio=0.2, test_ratio=0.5)\n",
        "\n",
        "X1_train, y1_train = train_data_1[:, [0]], train_data_1[:, [1]]\n",
        "X1_val, y1_val = val_data_1[:, [0]], val_data_1[:, [1]]\n",
        "X1_test, y1_test = test_data_1[:, [0]], test_data_1[:, [1]]"
      ]
    },
    {
      "cell_type": "code",
      "execution_count": null,
      "metadata": {
        "id": "wZKRFy7wgT9z"
      },
      "outputs": [],
      "source": [
        "# Shuffled and scaled data\n",
        "train_data_2 = scale_data(data=train_data_1)\n",
        "val_data_2 = scale_data(data=val_data_1)\n",
        "test_data_2 = scale_data(data=test_data_1)\n",
        "\n",
        "X2_train, y2_train = train_data_2[:, [0]], train_data_2[:, [1]]\n",
        "X2_val, y2_val = val_data_2[:, [0]], val_data_2[:, [1]]\n",
        "X2_test, y2_test = test_data_2[:, [0]], test_data_2[:, [1]]"
      ]
    },
    {
      "cell_type": "code",
      "execution_count": null,
      "metadata": {
        "id": "64akYeMFiPV4"
      },
      "outputs": [],
      "source": [
        "# Unshuffled and unscaled data \n",
        "train_data_3, val_data_3, test_data_3 = split_data(data=unshuffled_data, train_ratio=0.3, val_ratio=0.2, test_ratio=0.5)\n",
        "\n",
        "X3_train, y3_train = train_data_3[:, [0]], train_data_3[:, [1]]\n",
        "X3_val, y3_val = val_data_3[:, [0]], val_data_3[:, [1]]\n",
        "X3_test, y3_test = test_data_3[:, [0]], test_data_3[:, [1]]"
      ]
    },
    {
      "cell_type": "code",
      "execution_count": null,
      "metadata": {
        "id": "lbgoTx7Ox8Bz"
      },
      "outputs": [],
      "source": [
        "# Unshuffled and scaled data\n",
        "train_data_4 = scale_data(data=train_data_3)\n",
        "val_data_4 = scale_data(data=val_data_3)\n",
        "test_data_4 = scale_data(data=test_data_3)\n",
        "\n",
        "X4_train, y4_train = train_data_4[:, [0]], train_data_4[:, [1]]\n",
        "X4_val, y4_val = val_data_4[:, [0]], val_data_4[:, [1]]\n",
        "X4_test, y4_test = test_data_4[:, [0]], test_data_4[:, [1]]"
      ]
    },
    {
      "cell_type": "markdown",
      "metadata": {
        "id": "Md8G2flNya2L"
      },
      "source": [
        "## Model training"
      ]
    },
    {
      "cell_type": "markdown",
      "metadata": {
        "id": "-XxGH4EJ2Gnb"
      },
      "source": [
        "### Case 1\n",
        "\n",
        "**Data:** Use shuffled and unscaled data\n",
        "\n",
        "**NN structure:** \n",
        "* FCL (12 units ) - first hidden layer\n",
        "* FCL (8 units ) - second hidden layer\n",
        "* FCL (4 units ) - last hidden layer\n",
        "\n",
        "**Activation function:** Relu"
      ]
    },
    {
      "cell_type": "code",
      "execution_count": null,
      "metadata": {
        "colab": {
          "base_uri": "https://localhost:8080/",
          "height": 677
        },
        "id": "05GEaRwp5YbA",
        "outputId": "e41ea080-299e-467b-f871-c3c4e740a5bc"
      },
      "outputs": [
        {
          "output_type": "stream",
          "name": "stdout",
          "text": [
            "Model: \"sequential\"\n",
            "_________________________________________________________________\n",
            " Layer (type)                Output Shape              Param #   \n",
            "=================================================================\n",
            " dense (Dense)               (None, 12)                24        \n",
            "                                                                 \n",
            " dense_1 (Dense)             (None, 8)                 104       \n",
            "                                                                 \n",
            " dense_2 (Dense)             (None, 4)                 36        \n",
            "                                                                 \n",
            " dense_3 (Dense)             (None, 1)                 5         \n",
            "                                                                 \n",
            "=================================================================\n",
            "Total params: 169\n",
            "Trainable params: 169\n",
            "Non-trainable params: 0\n",
            "_________________________________________________________________\n"
          ]
        },
        {
          "output_type": "display_data",
          "data": {
            "text/plain": [
              "<Figure size 864x288 with 2 Axes>"
            ],
            "image/png": "[encoded data removed]"
          },
          "metadata": {
            "needs_background": "light"
          }
        },
        {
          "output_type": "stream",
          "name": "stdout",
          "text": [
            "MAE: 0.033185190719767554\n",
            "MSE: 0.001908230538653855\n",
            "RMSE: 0.04368329816593357\n",
            "R2: 0.9966725258402693\n"
          ]
        }
      ],
      "source": [
        "# Create model\n",
        "model_1 = create_model(structure=1, activation='relu')\n",
        "\n",
        "# Fit data\n",
        "history_1 = model_1.fit(X1_train, y1_train, epochs=20, batch_size=12, verbose=0, validation_data=(X1_val, y1_val))\n",
        "\n",
        "# Make predictions\n",
        "y1_pred = model_1.predict(X1_test, verbose=0)\n",
        "\n",
        "# Plot the actual data and predicted data\n",
        "create_plot(X1_test, y1_test, y1_pred, case=1)\n",
        "\n",
        "# Errors\n",
        "get_errors(y1_test, y1_pred)"
      ]
    },
    {
      "cell_type": "markdown",
      "metadata": {
        "id": "70x1Y4Ii4TsX"
      },
      "source": [
        "### Case 2\n",
        "\n",
        "**Data:** Use shuffled and unscaled data\n",
        "\n",
        "**NN structure:** \n",
        "* FCL (24 units ) - one hidden layer\n",
        "\n",
        "**Activation function:** Relu"
      ]
    },
    {
      "cell_type": "code",
      "execution_count": null,
      "metadata": {
        "colab": {
          "base_uri": "https://localhost:8080/",
          "height": 606
        },
        "id": "Us8lIXQv2D-v",
        "outputId": "edaaa4ae-01c6-4a72-98ad-8d30e0bfb28f"
      },
      "outputs": [
        {
          "output_type": "stream",
          "name": "stdout",
          "text": [
            "Model: \"sequential_1\"\n",
            "_________________________________________________________________\n",
            " Layer (type)                Output Shape              Param #   \n",
            "=================================================================\n",
            " dense_4 (Dense)             (None, 24)                48        \n",
            "                                                                 \n",
            " dense_5 (Dense)             (None, 1)                 25        \n",
            "                                                                 \n",
            "=================================================================\n",
            "Total params: 73\n",
            "Trainable params: 73\n",
            "Non-trainable params: 0\n",
            "_________________________________________________________________\n"
          ]
        },
        {
          "output_type": "display_data",
          "data": {
            "text/plain": [
              "<Figure size 864x288 with 2 Axes>"
            ],
            "image/png": "[encoded data removed]"
          },
          "metadata": {
            "needs_background": "light"
          }
        },
        {
          "output_type": "stream",
          "name": "stdout",
          "text": [
            "MAE: 0.02110862460486543\n",
            "MSE: 0.0009434660036568898\n",
            "RMSE: 0.030715891711895486\n",
            "R2: 0.9983548325612862\n"
          ]
        }
      ],
      "source": [
        "# Create model\n",
        "model_2 = create_model(structure=2, activation='relu')\n",
        "\n",
        "# Fit data\n",
        "history_2 = model_2.fit(X1_train, y1_train, epochs=20, batch_size=12, verbose=0, validation_data=(X1_val, y1_val))\n",
        "\n",
        "# Make predictions\n",
        "y2_pred = model_2.predict(X1_test, verbose=0)\n",
        "\n",
        "# Plot the actual data and predicted data\n",
        "create_plot(X1_test, y1_test, y2_pred, case=2)\n",
        "\n",
        "# Errors\n",
        "get_errors(y1_test, y2_pred)"
      ]
    },
    {
      "cell_type": "markdown",
      "metadata": {
        "id": "RwnAG6PX5ZHB"
      },
      "source": [
        "### Case 3\n",
        "\n",
        "**Data:** Use shuffled and unscaled data\n",
        "\n",
        "**NN structure:** \n",
        "* FCL (12 units ) - first hidden layer\n",
        "* FCL (8 units ) - second hidden layer\n",
        "* FCL (4 units ) - last hidden layer\n",
        "\n",
        "**Activation function:** Tanh"
      ]
    },
    {
      "cell_type": "code",
      "execution_count": null,
      "metadata": {
        "colab": {
          "base_uri": "https://localhost:8080/",
          "height": 677
        },
        "id": "os0N_sG81kJX",
        "outputId": "4137e418-b7a7-4a36-fe0a-dbdb608438bf"
      },
      "outputs": [
        {
          "output_type": "stream",
          "name": "stdout",
          "text": [
            "Model: \"sequential_2\"\n",
            "_________________________________________________________________\n",
            " Layer (type)                Output Shape              Param #   \n",
            "=================================================================\n",
            " dense_6 (Dense)             (None, 12)                24        \n",
            "                                                                 \n",
            " dense_7 (Dense)             (None, 8)                 104       \n",
            "                                                                 \n",
            " dense_8 (Dense)             (None, 4)                 36        \n",
            "                                                                 \n",
            " dense_9 (Dense)             (None, 1)                 5         \n",
            "                                                                 \n",
            "=================================================================\n",
            "Total params: 169\n",
            "Trainable params: 169\n",
            "Non-trainable params: 0\n",
            "_________________________________________________________________\n"
          ]
        },
        {
          "output_type": "display_data",
          "data": {
            "text/plain": [
              "<Figure size 864x288 with 2 Axes>"
            ],
            "image/png": "[encoded data removed]"
          },
          "metadata": {
            "needs_background": "light"
          }
        },
        {
          "output_type": "stream",
          "name": "stdout",
          "text": [
            "MAE: 9.076430140146645\n",
            "MSE: 82.95506127039744\n",
            "RMSE: 9.107966912017051\n",
            "R2: -143.65276454009853\n"
          ]
        }
      ],
      "source": [
        "# Create model\n",
        "model_3 = create_model(structure=1, activation='tanh')\n",
        "\n",
        "# Fit data\n",
        "history_3 = model_3.fit(X1_train, y1_train, epochs=20, batch_size=12, verbose=0, validation_data=(X1_val, y1_val))\n",
        "\n",
        "# Make predictions\n",
        "y3_pred = model_3.predict(X1_test, verbose=0)\n",
        "\n",
        "# Plot the actual data and predicted data\n",
        "create_plot(X1_test, y1_test, y3_pred, case=3)\n",
        "\n",
        "# Errors\n",
        "get_errors(y1_test, y3_pred)"
      ]
    },
    {
      "cell_type": "markdown",
      "metadata": {
        "id": "z1ThGnCP6CbT"
      },
      "source": [
        "### Case 4\n",
        "\n",
        "**Data:** Use shuffled and scaled data. First, shuffle the data then split\n",
        "the data and finally scale the data (both X and y).\n",
        "\n",
        "**NN structure:** \n",
        "* FCL (12 units ) - first hidden layer\n",
        "* FCL (8 units ) - second hidden layer\n",
        "* FCL (4 units ) - last hidden layer\n",
        "\n",
        "**Activation function:** Relu"
      ]
    },
    {
      "cell_type": "code",
      "execution_count": null,
      "metadata": {
        "colab": {
          "base_uri": "https://localhost:8080/",
          "height": 677
        },
        "id": "CTackh646C8G",
        "outputId": "7ac1d6e1-e581-4d94-ea84-a0a3937c4aa6"
      },
      "outputs": [
        {
          "output_type": "stream",
          "name": "stdout",
          "text": [
            "Model: \"sequential_3\"\n",
            "_________________________________________________________________\n",
            " Layer (type)                Output Shape              Param #   \n",
            "=================================================================\n",
            " dense_10 (Dense)            (None, 12)                24        \n",
            "                                                                 \n",
            " dense_11 (Dense)            (None, 8)                 104       \n",
            "                                                                 \n",
            " dense_12 (Dense)            (None, 4)                 36        \n",
            "                                                                 \n",
            " dense_13 (Dense)            (None, 1)                 5         \n",
            "                                                                 \n",
            "=================================================================\n",
            "Total params: 169\n",
            "Trainable params: 169\n",
            "Non-trainable params: 0\n",
            "_________________________________________________________________\n"
          ]
        },
        {
          "output_type": "display_data",
          "data": {
            "text/plain": [
              "<Figure size 864x288 with 2 Axes>"
            ],
            "image/png": "[encoded data removed]"
          },
          "metadata": {
            "needs_background": "light"
          }
        },
        {
          "output_type": "stream",
          "name": "stdout",
          "text": [
            "MAE: 0.4442080969108146\n",
            "MSE: 0.23318410981071497\n",
            "RMSE: 0.48289140581575374\n",
            "R2: -5.502030291027642\n"
          ]
        }
      ],
      "source": [
        "# Create model\n",
        "model_4 = create_model(structure=1, activation='relu')\n",
        "\n",
        "# Fit data\n",
        "history_4 = model_4.fit(X2_train, y2_train, epochs=20, batch_size=12, verbose=0, validation_data=(X2_val, y2_val))\n",
        "\n",
        "# Make predictions\n",
        "y4_pred = model_4.predict(X2_test, verbose=0)\n",
        "\n",
        "# Plot the actual data and predicted data\n",
        "create_plot(X2_test, y2_test, y4_pred, case=4)\n",
        "\n",
        "# Errors\n",
        "get_errors(y2_test, y4_pred)"
      ]
    },
    {
      "cell_type": "markdown",
      "metadata": {
        "id": "bXwbEJNi9Rgi"
      },
      "source": [
        "### Case 5\n",
        "\n",
        "**Data:** Use shuffled and scaled data. First, shuffle the data then split\n",
        "the data and finally scale the data (both X and y).\n",
        "\n",
        "**NN structure:** \n",
        "* FCL (12 units ) - first hidden layer\n",
        "* FCL (8 units ) - second hidden layer\n",
        "* FCL (4 units ) - last hidden layer\n",
        "\n",
        "**Activation function:** Tanh"
      ]
    },
    {
      "cell_type": "code",
      "execution_count": null,
      "metadata": {
        "colab": {
          "base_uri": "https://localhost:8080/",
          "height": 677
        },
        "id": "RQN4yYb384r2",
        "outputId": "5e1abfd1-6383-4161-8b96-785a4b6a08c2"
      },
      "outputs": [
        {
          "output_type": "stream",
          "name": "stdout",
          "text": [
            "Model: \"sequential_4\"\n",
            "_________________________________________________________________\n",
            " Layer (type)                Output Shape              Param #   \n",
            "=================================================================\n",
            " dense_14 (Dense)            (None, 12)                24        \n",
            "                                                                 \n",
            " dense_15 (Dense)            (None, 8)                 104       \n",
            "                                                                 \n",
            " dense_16 (Dense)            (None, 4)                 36        \n",
            "                                                                 \n",
            " dense_17 (Dense)            (None, 1)                 5         \n",
            "                                                                 \n",
            "=================================================================\n",
            "Total params: 169\n",
            "Trainable params: 169\n",
            "Non-trainable params: 0\n",
            "_________________________________________________________________\n"
          ]
        },
        {
          "output_type": "display_data",
          "data": {
            "text/plain": [
              "<Figure size 864x288 with 2 Axes>"
            ],
            "image/png": "[encoded data removed]"
          },
          "metadata": {
            "needs_background": "light"
          }
        },
        {
          "output_type": "stream",
          "name": "stdout",
          "text": [
            "MAE: 0.010518327637773493\n",
            "MSE: 0.00021042517718983456\n",
            "RMSE: 0.014506039335043682\n",
            "R2: 0.9941325724244513\n"
          ]
        }
      ],
      "source": [
        "# Create model\n",
        "model_5 = create_model(structure=1, activation='tanh')\n",
        "\n",
        "# Fit data\n",
        "history_5 = model_5.fit(X2_train, y2_train, epochs=20, batch_size=12, verbose=0, validation_data=(X2_val, y2_val))\n",
        "\n",
        "# Make predictions\n",
        "y5_pred = model_5.predict(X2_test, verbose=0)\n",
        "\n",
        "# Plot the actual data and predicted data\n",
        "create_plot(X2_test, y2_test, y5_pred, case=5)\n",
        "\n",
        "# Errors\n",
        "get_errors(y2_test, y5_pred)"
      ]
    },
    {
      "cell_type": "markdown",
      "source": [
        "### Case 6\n",
        "\n",
        "**Data:** Use unshuffled and unscaled data\n",
        "\n",
        "**NN structure:** \n",
        "* FCL (12 units ) - first hidden layer\n",
        "* FCL (8 units ) - second hidden layer\n",
        "* FCL (4 units ) - last hidden layer\n",
        "\n",
        "**Activation function:** Relu"
      ],
      "metadata": {
        "id": "3U19XXQkp-SW"
      }
    },
    {
      "cell_type": "code",
      "source": [
        "# Create model\n",
        "model_6 = create_model(structure=1, activation='relu')\n",
        "\n",
        "# Fit data\n",
        "history_6 = model_6.fit(X3_train, y3_train, epochs=20, batch_size=12, verbose=0, validation_data=(X3_val, y3_val))\n",
        "\n",
        "# Make predictions\n",
        "y6_pred = model_6.predict(X3_test, verbose=0)\n",
        "\n",
        "# Plot the actual data and predicted data\n",
        "create_plot(X3_test, y3_test, y6_pred, case=6)\n",
        "\n",
        "# Errors\n",
        "get_errors(y3_test, y6_pred)"
      ],
      "metadata": {
        "id": "i0BUrHi8m_YH",
        "colab": {
          "base_uri": "https://localhost:8080/",
          "height": 677
        },
        "outputId": "b47495bd-9b43-4487-a020-0fac3b3c83aa"
      },
      "execution_count": null,
      "outputs": [
        {
          "output_type": "stream",
          "name": "stdout",
          "text": [
            "Model: \"sequential_5\"\n",
            "_________________________________________________________________\n",
            " Layer (type)                Output Shape              Param #   \n",
            "=================================================================\n",
            " dense_18 (Dense)            (None, 12)                24        \n",
            "                                                                 \n",
            " dense_19 (Dense)            (None, 8)                 104       \n",
            "                                                                 \n",
            " dense_20 (Dense)            (None, 4)                 36        \n",
            "                                                                 \n",
            " dense_21 (Dense)            (None, 1)                 5         \n",
            "                                                                 \n",
            "=================================================================\n",
            "Total params: 169\n",
            "Trainable params: 169\n",
            "Non-trainable params: 0\n",
            "_________________________________________________________________\n"
          ]
        },
        {
          "output_type": "display_data",
          "data": {
            "text/plain": [
              "<Figure size 864x288 with 2 Axes>"
            ],
            "image/png": "[encoded data removed]"
          },
          "metadata": {
            "needs_background": "light"
          }
        },
        {
          "output_type": "stream",
          "name": "stdout",
          "text": [
            "MAE: 0.036197597630286404\n",
            "MSE: 0.0025261163253644846\n",
            "RMSE: 0.05026048473069559\n",
            "R2: 0.9955970173508948\n"
          ]
        }
      ]
    },
    {
      "cell_type": "markdown",
      "source": [
        "### Case 7\n",
        "\n",
        "**Data:** Use unshuffled and unscaled data\n",
        "\n",
        "**NN structure:** \n",
        "* FCL (24 units ) - one hidden layer\n",
        "\n",
        "**Activation function:** Relu"
      ],
      "metadata": {
        "id": "ZfNYWVFZqno8"
      }
    },
    {
      "cell_type": "code",
      "source": [
        "# Create model\n",
        "model_7 = create_model(structure=2, activation='relu')\n",
        "\n",
        "# Fit data\n",
        "history_7 = model_7.fit(X3_train, y3_train, epochs=20, batch_size=12, verbose=0, validation_data=(X3_val, y3_val))\n",
        "\n",
        "# Make predictions\n",
        "y7_pred = model_7.predict(X3_test, verbose=0)\n",
        "\n",
        "# Plot the actual data and predicted data\n",
        "create_plot(X3_test, y3_test, y7_pred, case=7)\n",
        "\n",
        "# Errors\n",
        "get_errors(y3_test, y7_pred)"
      ],
      "metadata": {
        "id": "gApPyF4mqzVq",
        "colab": {
          "base_uri": "https://localhost:8080/",
          "height": 606
        },
        "outputId": "51073941-0f1e-4fbd-efda-148d2fdc83cb"
      },
      "execution_count": null,
      "outputs": [
        {
          "output_type": "stream",
          "name": "stdout",
          "text": [
            "Model: \"sequential_6\"\n",
            "_________________________________________________________________\n",
            " Layer (type)                Output Shape              Param #   \n",
            "=================================================================\n",
            " dense_22 (Dense)            (None, 24)                48        \n",
            "                                                                 \n",
            " dense_23 (Dense)            (None, 1)                 25        \n",
            "                                                                 \n",
            "=================================================================\n",
            "Total params: 73\n",
            "Trainable params: 73\n",
            "Non-trainable params: 0\n",
            "_________________________________________________________________\n"
          ]
        },
        {
          "output_type": "display_data",
          "data": {
            "text/plain": [
              "<Figure size 864x288 with 2 Axes>"
            ],
            "image/png": "[encoded data removed]"
          },
          "metadata": {
            "needs_background": "light"
          }
        },
        {
          "output_type": "stream",
          "name": "stdout",
          "text": [
            "MAE: 0.01972889352801272\n",
            "MSE: 0.0007069879837491866\n",
            "RMSE: 0.026589245640844843\n",
            "R2: 0.9987677306091103\n"
          ]
        }
      ]
    },
    {
      "cell_type": "markdown",
      "source": [
        "### Case 8\n",
        "\n",
        "**Data:** Use unshuffled and unscaled data\n",
        "\n",
        "**NN structure:** \n",
        "* FCL (12 units ) - first hidden layer\n",
        "* FCL (8 units ) - second hidden layer\n",
        "* FCL (4 units ) - last hidden layer\n",
        "\n",
        "**Activation function:** Tanh"
      ],
      "metadata": {
        "id": "DJDiYZ2bq_yy"
      }
    },
    {
      "cell_type": "code",
      "source": [
        "# Create model\n",
        "model_8 = create_model(structure=1, activation='tanh')\n",
        "\n",
        "# Fit data\n",
        "history_8 = model_8.fit(X3_train, y3_train, epochs=20, batch_size=12, verbose=0, validation_data=(X3_val, y3_val))\n",
        "\n",
        "# Make predictions\n",
        "y8_pred = model_8.predict(X3_test, verbose=0)\n",
        "\n",
        "# Plot the actual data and predicted data\n",
        "create_plot(X3_test, y3_test, y8_pred, case=8)\n",
        "\n",
        "# Errors\n",
        "get_errors(y3_test, y8_pred)"
      ],
      "metadata": {
        "id": "J-VIwtHsrFYT",
        "colab": {
          "base_uri": "https://localhost:8080/",
          "height": 677
        },
        "outputId": "bf426300-74da-4edb-fe98-4c3e1e9e7dc9"
      },
      "execution_count": null,
      "outputs": [
        {
          "output_type": "stream",
          "name": "stdout",
          "text": [
            "Model: \"sequential_7\"\n",
            "_________________________________________________________________\n",
            " Layer (type)                Output Shape              Param #   \n",
            "=================================================================\n",
            " dense_24 (Dense)            (None, 12)                24        \n",
            "                                                                 \n",
            " dense_25 (Dense)            (None, 8)                 104       \n",
            "                                                                 \n",
            " dense_26 (Dense)            (None, 4)                 36        \n",
            "                                                                 \n",
            " dense_27 (Dense)            (None, 1)                 5         \n",
            "                                                                 \n",
            "=================================================================\n",
            "Total params: 169\n",
            "Trainable params: 169\n",
            "Non-trainable params: 0\n",
            "_________________________________________________________________\n"
          ]
        },
        {
          "output_type": "display_data",
          "data": {
            "text/plain": [
              "<Figure size 864x288 with 2 Axes>"
            ],
            "image/png": "[encoded data removed]"
          },
          "metadata": {
            "needs_background": "light"
          }
        },
        {
          "output_type": "stream",
          "name": "stdout",
          "text": [
            "MAE: 9.076629726988475\n",
            "MSE: 82.95893562272705\n",
            "RMSE: 9.108179599828226\n",
            "R2: -143.59617336996726\n"
          ]
        }
      ]
    },
    {
      "cell_type": "markdown",
      "source": [
        "### Case 9\n",
        "\n",
        "**Data:** Use unshuffled and scaled data. First, shuffle the data then split\n",
        "the data and finally scale the data (both X and y).\n",
        "\n",
        "**NN structure:** \n",
        "* FCL (12 units ) - first hidden layer\n",
        "* FCL (8 units ) - second hidden layer\n",
        "* FCL (4 units ) - last hidden layer\n",
        "\n",
        "**Activation function:** Relu"
      ],
      "metadata": {
        "id": "JE2ZHEQjrXXn"
      }
    },
    {
      "cell_type": "code",
      "source": [
        "# Create model\n",
        "model_9 = create_model(structure=1, activation='relu')\n",
        "\n",
        "# Fit data\n",
        "history_9 = model_9.fit(X4_train, y4_train, epochs=20, batch_size=12, verbose=0, validation_data=(X4_val, y4_val))\n",
        "\n",
        "# Make predictions\n",
        "y9_pred = model_9.predict(X4_test, verbose=0)\n",
        "\n",
        "# Plot the actual data and predicted data\n",
        "create_plot(X4_test, y4_test, y9_pred, case=9)\n",
        "\n",
        "# Errors\n",
        "get_errors(y4_test, y9_pred)"
      ],
      "metadata": {
        "id": "NpsiPU8Orcww",
        "colab": {
          "base_uri": "https://localhost:8080/",
          "height": 677
        },
        "outputId": "3a45f359-6b56-4ff4-a73d-6f11cfe22e29"
      },
      "execution_count": null,
      "outputs": [
        {
          "output_type": "stream",
          "name": "stdout",
          "text": [
            "Model: \"sequential_8\"\n",
            "_________________________________________________________________\n",
            " Layer (type)                Output Shape              Param #   \n",
            "=================================================================\n",
            " dense_28 (Dense)            (None, 12)                24        \n",
            "                                                                 \n",
            " dense_29 (Dense)            (None, 8)                 104       \n",
            "                                                                 \n",
            " dense_30 (Dense)            (None, 4)                 36        \n",
            "                                                                 \n",
            " dense_31 (Dense)            (None, 1)                 5         \n",
            "                                                                 \n",
            "=================================================================\n",
            "Total params: 169\n",
            "Trainable params: 169\n",
            "Non-trainable params: 0\n",
            "_________________________________________________________________\n"
          ]
        },
        {
          "output_type": "display_data",
          "data": {
            "text/plain": [
              "<Figure size 864x288 with 2 Axes>"
            ],
            "image/png": "[encoded data removed]"
          },
          "metadata": {
            "needs_background": "light"
          }
        },
        {
          "output_type": "stream",
          "name": "stdout",
          "text": [
            "MAE: 0.44420724171816894\n",
            "MSE: 0.23320560965795567\n",
            "RMSE: 0.48291366687841386\n",
            "R2: -5.498596237992562\n"
          ]
        }
      ]
    },
    {
      "cell_type": "markdown",
      "source": [
        "### Case 10\n",
        "\n",
        "**Data:** Use unshuffled and scaled data. First, shuffle the data then split\n",
        "the data and finally scale the data (both X and y).\n",
        "\n",
        "**NN structure:** \n",
        "* FCL (12 units ) - first hidden layer\n",
        "* FCL (8 units ) - second hidden layer\n",
        "* FCL (4 units ) - last hidden layer\n",
        "\n",
        "**Activation function:** Tanh"
      ],
      "metadata": {
        "id": "tVQT-hM-rrtj"
      }
    },
    {
      "cell_type": "code",
      "source": [
        "# Create model\n",
        "model_10 = create_model(structure=1, activation='tanh')\n",
        "\n",
        "# Fit data\n",
        "history_10 = model_10.fit(X4_train, y4_train, epochs=20, batch_size=12, verbose=0, validation_data=(X4_val, y4_val))\n",
        "\n",
        "# Make predictions\n",
        "y10_pred = model_10.predict(X4_test, verbose=0)\n",
        "\n",
        "# Plot the actual data and predicted data\n",
        "create_plot(X4_test, y4_test, y10_pred, case=10)\n",
        "\n",
        "# Errors\n",
        "get_errors(y4_test, y10_pred)"
      ],
      "metadata": {
        "id": "qcXtc8EjrtH7",
        "colab": {
          "base_uri": "https://localhost:8080/",
          "height": 677
        },
        "outputId": "3e34fe29-c583-46b6-c89a-74bb63a2bf5d"
      },
      "execution_count": null,
      "outputs": [
        {
          "output_type": "stream",
          "name": "stdout",
          "text": [
            "Model: \"sequential_9\"\n",
            "_________________________________________________________________\n",
            " Layer (type)                Output Shape              Param #   \n",
            "=================================================================\n",
            " dense_32 (Dense)            (None, 12)                24        \n",
            "                                                                 \n",
            " dense_33 (Dense)            (None, 8)                 104       \n",
            "                                                                 \n",
            " dense_34 (Dense)            (None, 4)                 36        \n",
            "                                                                 \n",
            " dense_35 (Dense)            (None, 1)                 5         \n",
            "                                                                 \n",
            "=================================================================\n",
            "Total params: 169\n",
            "Trainable params: 169\n",
            "Non-trainable params: 0\n",
            "_________________________________________________________________\n"
          ]
        },
        {
          "output_type": "display_data",
          "data": {
            "text/plain": [
              "<Figure size 864x288 with 2 Axes>"
            ],
            "image/png": "[encoded data removed]"
          },
          "metadata": {
            "needs_background": "light"
          }
        },
        {
          "output_type": "stream",
          "name": "stdout",
          "text": [
            "MAE: 0.014732901632432868\n",
            "MSE: 0.00044595083287533096\n",
            "RMSE: 0.021117547984444856\n",
            "R2: 0.9875729644363879\n"
          ]
        }
      ]
    },
    {
      "cell_type": "markdown",
      "source": [
        "## Solving XOR problem"
      ],
      "metadata": {
        "id": "jXoic4bOqmuO"
      }
    },
    {
      "cell_type": "markdown",
      "source": [
        "### Truth table "
      ],
      "metadata": {
        "id": "47G09A9YqyOK"
      }
    },
    {
      "cell_type": "code",
      "source": [
        "# Implement truth table\n",
        "truth_table = {\n",
        "    'A': [0, 0, 1, 1],\n",
        "    'B': [0, 1, 0, 1],\n",
        "    'Q': [0, 1, 1, 0]\n",
        "}\n",
        "\n",
        "df = pd.DataFrame(truth_table)\n",
        "df"
      ],
      "metadata": {
        "colab": {
          "base_uri": "https://localhost:8080/",
          "height": 175
        },
        "id": "VvfWEIZpqmUZ",
        "outputId": "4b2b6f68-2b08-427b-b8a3-3ff52c5b1151"
      },
      "execution_count": null,
      "outputs": [
        {
          "output_type": "execute_result",
          "data": {
            "text/plain": [
              "   A  B  Q\n",
              "0  0  0  0\n",
              "1  0  1  1\n",
              "2  1  0  1\n",
              "3  1  1  0"
            ],
            "text/html": [
              "\n",
              "  <div id=\"df-40b31238-1aee-44ae-91ec-6162dd172272\">\n",
              "    <div class=\"colab-df-container\">\n",
              "      <div>\n",
              "<style scoped>\n",
              "    .dataframe tbody tr th:only-of-type {\n",
              "        vertical-align: middle;\n",
              "    }\n",
              "\n",
              "    .dataframe tbody tr th {\n",
              "        vertical-align: top;\n",
              "    }\n",
              "\n",
              "    .dataframe thead th {\n",
              "        text-align: right;\n",
              "    }\n",
              "</style>\n",
              "<table border=\"1\" class=\"dataframe\">\n",
              "  <thead>\n",
              "    <tr style=\"text-align: right;\">\n",
              "      <th></th>\n",
              "      <th>A</th>\n",
              "      <th>B</th>\n",
              "      <th>Q</th>\n",
              "    </tr>\n",
              "  </thead>\n",
              "  <tbody>\n",
              "    <tr>\n",
              "      <th>0</th>\n",
              "      <td>0</td>\n",
              "      <td>0</td>\n",
              "      <td>0</td>\n",
              "    </tr>\n",
              "    <tr>\n",
              "      <th>1</th>\n",
              "      <td>0</td>\n",
              "      <td>1</td>\n",
              "      <td>1</td>\n",
              "    </tr>\n",
              "    <tr>\n",
              "      <th>2</th>\n",
              "      <td>1</td>\n",
              "      <td>0</td>\n",
              "      <td>1</td>\n",
              "    </tr>\n",
              "    <tr>\n",
              "      <th>3</th>\n",
              "      <td>1</td>\n",
              "      <td>1</td>\n",
              "      <td>0</td>\n",
              "    </tr>\n",
              "  </tbody>\n",
              "</table>\n",
              "</div>\n",
              "      <button class=\"colab-df-convert\" onclick=\"convertToInteractive('df-40b31238-1aee-44ae-91ec-6162dd172272')\"\n",
              "              title=\"Convert this dataframe to an interactive table.\"\n",
              "              style=\"display:none;\">\n",
              "        \n",
              "  <svg xmlns=\"http://www.w3.org/2000/svg\" height=\"24px\"viewBox=\"0 0 24 24\"\n",
              "       width=\"24px\">\n",
              "    <path d=\"M0 0h24v24H0V0z\" fill=\"none\"/>\n",
              "    <path d=\"M18.56 5.44l.94 2.06.94-2.06 2.06-.94-2.06-.94-.94-2.06-.94 2.06-2.06.94zm-11 1L8.5 8.5l.94-2.06 2.06-.94-2.06-.94L8.5 2.5l-.94 2.06-2.06.94zm10 10l.94 2.06.94-2.06 2.06-.94-2.06-.94-.94-2.06-.94 2.06-2.06.94z\"/><path d=\"M17.41 7.96l-1.37-1.37c-.4-.4-.92-.59-1.43-.59-.52 0-1.04.2-1.43.59L10.3 9.45l-7.72 7.72c-.78.78-.78 2.05 0 2.83L4 21.41c.39.39.9.59 1.41.59.51 0 1.02-.2 1.41-.59l7.78-7.78 2.81-2.81c.8-.78.8-2.07 0-2.86zM5.41 20L4 18.59l7.72-7.72 1.47 1.35L5.41 20z\"/>\n",
              "  </svg>\n",
              "      </button>\n",
              "      \n",
              "  <style>\n",
              "    .colab-df-container {\n",
              "      display:flex;\n",
              "      flex-wrap:wrap;\n",
              "      gap: 12px;\n",
              "    }\n",
              "\n",
              "    .colab-df-convert {\n",
              "      background-color: #E8F0FE;\n",
              "      border: none;\n",
              "      border-radius: 50%;\n",
              "      cursor: pointer;\n",
              "      display: none;\n",
              "      fill: #1967D2;\n",
              "      height: 32px;\n",
              "      padding: 0 0 0 0;\n",
              "      width: 32px;\n",
              "    }\n",
              "\n",
              "    .colab-df-convert:hover {\n",
              "      background-color: #E2EBFA;\n",
              "      box-shadow: 0px 1px 2px rgba(60, 64, 67, 0.3), 0px 1px 3px 1px rgba(60, 64, 67, 0.15);\n",
              "      fill: #174EA6;\n",
              "    }\n",
              "\n",
              "    [theme=dark] .colab-df-convert {\n",
              "      background-color: #3B4455;\n",
              "      fill: #D2E3FC;\n",
              "    }\n",
              "\n",
              "    [theme=dark] .colab-df-convert:hover {\n",
              "      background-color: #434B5C;\n",
              "      box-shadow: 0px 1px 3px 1px rgba(0, 0, 0, 0.15);\n",
              "      filter: drop-shadow(0px 1px 2px rgba(0, 0, 0, 0.3));\n",
              "      fill: #FFFFFF;\n",
              "    }\n",
              "  </style>\n",
              "\n",
              "      <script>\n",
              "        const buttonEl =\n",
              "          document.querySelector('#df-40b31238-1aee-44ae-91ec-6162dd172272 button.colab-df-convert');\n",
              "        buttonEl.style.display =\n",
              "          google.colab.kernel.accessAllowed ? 'block' : 'none';\n",
              "\n",
              "        async function convertToInteractive(key) {\n",
              "          const element = document.querySelector('#df-40b31238-1aee-44ae-91ec-6162dd172272');\n",
              "          const dataTable =\n",
              "            await google.colab.kernel.invokeFunction('convertToInteractive',\n",
              "                                                     [key], {});\n",
              "          if (!dataTable) return;\n",
              "\n",
              "          const docLinkHtml = 'Like what you see? Visit the ' +\n",
              "            '<a target=\"_blank\" href=https://colab.research.google.com/notebooks/data_table.ipynb>data table notebook</a>'\n",
              "            + ' to learn more about interactive tables.';\n",
              "          element.innerHTML = '';\n",
              "          dataTable['output_type'] = 'display_data';\n",
              "          await google.colab.output.renderOutput(dataTable, element);\n",
              "          const docLink = document.createElement('div');\n",
              "          docLink.innerHTML = docLinkHtml;\n",
              "          element.appendChild(docLink);\n",
              "        }\n",
              "      </script>\n",
              "    </div>\n",
              "  </div>\n",
              "  "
            ]
          },
          "metadata": {},
          "execution_count": 24
        }
      ]
    },
    {
      "cell_type": "code",
      "source": [
        "X = np.array(df.drop('Q', axis=1)).T\n",
        "y = np.array([df['Q']])\n",
        "\n",
        "print(X.shape)\n",
        "print(y.shape)"
      ],
      "metadata": {
        "colab": {
          "base_uri": "https://localhost:8080/"
        },
        "id": "vzKJuvolVUM7",
        "outputId": "68f62798-cf5b-41d0-ec2b-ab817b58f56a"
      },
      "execution_count": null,
      "outputs": [
        {
          "output_type": "stream",
          "name": "stdout",
          "text": [
            "(2, 4)\n",
            "(1, 4)\n"
          ]
        }
      ]
    },
    {
      "cell_type": "markdown",
      "source": [
        "### Activation function"
      ],
      "metadata": {
        "id": "QcmWVYgoQdKs"
      }
    },
    {
      "cell_type": "code",
      "source": [
        "def sigmoid(z):\n",
        "  return 1 / (1 + np.exp(-z))\n",
        "\n",
        "def derivative_sigmoid(s):\n",
        "  return s * (1-s)"
      ],
      "metadata": {
        "id": "pZ06OmhrQl9i"
      },
      "execution_count": null,
      "outputs": []
    },
    {
      "cell_type": "markdown",
      "source": [
        "### Neural network for XOR problem"
      ],
      "metadata": {
        "id": "25SzCdwRsz-3"
      }
    },
    {
      "cell_type": "code",
      "source": [
        "class NeuralNetwork:\n",
        "  def __init__(self, learning_rate, epochs, verbose=True):\n",
        "    self.learning_rate = learning_rate\n",
        "    self.epochs = epochs\n",
        "    self.verbose = verbose \n",
        "\n",
        "    self.units = 2\n",
        "    self.n_samples = 2\n",
        "    self.n_outputs = 1\n",
        "\n",
        "  def initialize_weights(self):\n",
        "    np.random.seed(42)\n",
        "    self.w1 = np.random.rand(self.units, self.n_samples)\n",
        "    self.w2 = np.random.rand(self.n_outputs, self.units)\n",
        "\n",
        "  def forward_propagation(self, X):\n",
        "    z1 = np.dot(self.w1, X)\n",
        "    a1 = sigmoid(z1)    \n",
        "    z2 = np.dot(self.w2, a1)\n",
        "    return z1, a1, z2, sigmoid(z2)\n",
        "\n",
        "  def backward_propagation(self, z1, a1, z2, out, X, y):\n",
        "    dz2 = out - y \n",
        "    dw2 = np.dot(dz2,a1.T)/a1.shape[1]\n",
        "    dz1 = np.dot(self.w2.T,dz2) * derivative_sigmoid(a1)\n",
        "    dw1 = np.dot(dz1,X.T)/X.shape[1]    \n",
        "    return dw2, dw1\n",
        "\n",
        "  def fit(self, X, y):\n",
        "    self.initialize_weights()\n",
        "    self.losses = []\n",
        "    m = X.shape[1]\n",
        "\n",
        "    for i in range(self.epochs):\n",
        "      z1, a1, z2, out = self.forward_propagation(X)\n",
        "      # Binary cross-entropy\n",
        "      loss = -(1/m)*np.sum(y*np.log(out)+(1-y)*np.log(1-out))\n",
        "      self.losses.append(loss)\n",
        "      dw2, dw1 = self.backward_propagation(z1, a1, z2, out, X, y)\n",
        "      self.w2 -= self.learning_rate*dw2\n",
        "      self.w1 -= self.learning_rate*dw1\n",
        "\n",
        "      if self.verbose == True:\n",
        "        if (i+1)%1000 == 0:\n",
        "          print(f'Epoch: {i+1} ----> cost: {self.losses[i]:.2f}')\n",
        "\n",
        "  def predict(self, input):\n",
        "    _, _, _, probability = self.forward_propagation(input)\n",
        "    return 1 if probability >= 0.5 else 0, probability"
      ],
      "metadata": {
        "id": "2VLhimNBcLwb"
      },
      "execution_count": null,
      "outputs": []
    },
    {
      "cell_type": "markdown",
      "source": [
        "### Fitting and predict data"
      ],
      "metadata": {
        "id": "sKZ8STArlmwF"
      }
    },
    {
      "cell_type": "code",
      "source": [
        "# Initialize model\n",
        "xor = NeuralNetwork(learning_rate=0.1, epochs=20000, verbose=True)\n",
        "\n",
        "xor.fit(X, y)"
      ],
      "metadata": {
        "colab": {
          "base_uri": "https://localhost:8080/"
        },
        "id": "jnCu7mD6amq0",
        "outputId": "2343bc51-fcc2-474b-8fad-f23e854697f2"
      },
      "execution_count": null,
      "outputs": [
        {
          "output_type": "stream",
          "name": "stdout",
          "text": [
            "Epoch: 1000 ----> cost: 0.69\n",
            "Epoch: 2000 ----> cost: 0.69\n",
            "Epoch: 3000 ----> cost: 0.69\n",
            "Epoch: 4000 ----> cost: 0.67\n",
            "Epoch: 5000 ----> cost: 0.61\n",
            "Epoch: 6000 ----> cost: 0.53\n",
            "Epoch: 7000 ----> cost: 0.47\n",
            "Epoch: 8000 ----> cost: 0.42\n",
            "Epoch: 9000 ----> cost: 0.37\n",
            "Epoch: 10000 ----> cost: 0.34\n",
            "Epoch: 11000 ----> cost: 0.31\n",
            "Epoch: 12000 ----> cost: 0.28\n",
            "Epoch: 13000 ----> cost: 0.26\n",
            "Epoch: 14000 ----> cost: 0.24\n",
            "Epoch: 15000 ----> cost: 0.22\n",
            "Epoch: 16000 ----> cost: 0.21\n",
            "Epoch: 17000 ----> cost: 0.20\n",
            "Epoch: 18000 ----> cost: 0.18\n",
            "Epoch: 19000 ----> cost: 0.17\n",
            "Epoch: 20000 ----> cost: 0.17\n"
          ]
        }
      ]
    },
    {
      "cell_type": "code",
      "source": [
        "# Plot the learning curve \n",
        "\n",
        "plt.plot(xor.losses)\n",
        "plt.title('Learning curve')\n",
        "plt.show()"
      ],
      "metadata": {
        "colab": {
          "base_uri": "https://localhost:8080/",
          "height": 281
        },
        "id": "XR1ArXppm9wc",
        "outputId": "d274f5c2-cdd4-4b41-fa17-1334f30911ea"
      },
      "execution_count": null,
      "outputs": [
        {
          "output_type": "display_data",
          "data": {
            "text/plain": [
              "<Figure size 432x288 with 1 Axes>"
            ],
            "image/png": "[encoded data removed]"
          },
          "metadata": {
            "needs_background": "light"
          }
        }
      ]
    },
    {
      "cell_type": "code",
      "source": [
        "# Sovle XOR problem\n",
        "output_00, p_00 = xor.predict([[0], [0]])\n",
        "output_01, p_01 = xor.predict([[0], [1]])\n",
        "output_10, p_10 = xor.predict([[1], [0]])\n",
        "output_11, p_11 = xor.predict([[1], [1]])\n",
        "\n",
        "print(f'For input [0, 0], output is {output_00} with probability {p_00[0][0]:.2f}')\n",
        "print(f'For input [0, 1], output is {output_01} with probability {p_01[0][0]:.2f}')\n",
        "print(f'For input [1, 0], output is {output_10} with probability {p_10[0][0]:.2f}')\n",
        "print(f'For input [1, 1], output is {output_11} with probability {p_11[0][0]:.2f}')"
      ],
      "metadata": {
        "colab": {
          "base_uri": "https://localhost:8080/"
        },
        "id": "0ZgXjXJbnxDR",
        "outputId": "97794503-f8c6-4167-9863-338965f0cd56"
      },
      "execution_count": null,
      "outputs": [
        {
          "output_type": "stream",
          "name": "stdout",
          "text": [
            "For input [0, 0], output is 0 with probability 0.03\n",
            "For input [0, 1], output is 1 with probability 0.93\n",
            "For input [1, 0], output is 1 with probability 0.93\n",
            "For input [1, 1], output is 0 with probability 0.12\n"
          ]
        }
      ]
    },
    {
      "cell_type": "code",
      "source": [],
      "metadata": {
        "id": "601FXsUYoaQz"
      },
      "execution_count": null,
      "outputs": []
    }
  ],
  "metadata": {
    "colab": {
      "toc_visible": true,
      "provenance": []
    },
    "kernelspec": {
      "display_name": "Python 3",
      "name": "python3"
    },
    "language_info": {
      "name": "python"
    }
  },
  "nbformat": 4,
  "nbformat_minor": 0
}